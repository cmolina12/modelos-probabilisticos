{
 "cells": [
  {
   "cell_type": "markdown",
   "id": "53f293d2",
   "metadata": {},
   "source": [
    "## Gadgets-R-Us\n",
    "***\n",
    "### Enunciado\n",
    "\n",
    "Las acciones comunes de la compañía *Gadgets-R-Us* se negocian en el mercado de valores. El director financiero de *Gadgets-R-Us* compra y vende la acción de tal manera que el precio nunca cae por debajo de $2 y nunca sube por encima de $10.\n",
    "\n",
    "Análisis estadísticos sugieren que los potenciales movimientos en el precio de la acción $I_n$ forman una secuencia de variables aleatorias i.i.d. con la siguiente distribución de probabilidad:\n",
    "\n",
    "$$P(I_n = k) = 0.2, \\quad k = -2,-1,0,1,2.$$\n",
    "\n",
    "Sea $X_n$ el precio de la acción al final del día $n$.\n",
    "El espacio de estados es:\n",
    "$$[S_x = {2,3,\\dots,9,10}.]$$\n",
    "\n",
    "\n",
    "Suponga que el Sr. Jones compra la acción cuando está cotizando a **$5** y decide venderla tan pronto como se negocie a **$8 o más**.\n",
    "\n",
    "La matriz de transición $P$ es:\n",
    "$$P =\n",
    "\\begin{bmatrix}\n",
    "0.6 & 0.2 & 0.2 & 0   & 0   & 0   & 0   & 0   & 0   \\\\\n",
    "0.4 & 0.2 & 0.2 & 0.2 & 0   & 0   & 0   & 0   & 0   \\\\\n",
    "0   & 0.2 & 0.2 & 0.2 & 0.2 & 0   & 0   & 0   & 0   \\\\\n",
    "0   & 0   & 0.2 & 0.2 & 0.2 & 0.2 & 0   & 0   & 0   \\\\\n",
    "0   & 0   & 0   & 0.2 & 0.2 & 0.2 & 0.2 & 0   & 0   \\\\\n",
    "0   & 0   & 0   & 0   & 0.2 & 0.2 & 0.2 & 0.2 & 0   \\\\\n",
    "0   & 0   & 0   & 0   & 0   & 0.2 & 0.2 & 0.2 & 0.2 \\\\\n",
    "0   & 0   & 0   & 0   & 0   & 0   & 0.2 & 0.2 & 0.4 \\\\\n",
    "0   & 0   & 0   & 0   & 0   & 0   & 0   & 0.2 & 0.6 \n",
    "\\end{bmatrix}$$\n"
   ]
  },
  {
   "cell_type": "markdown",
   "id": "31f8c949",
   "metadata": {},
   "source": [
    "#### ¿Cuál es la cantidad de tiempo esperada que el Sr. Jones terminará teniendo la acción?"
   ]
  },
  {
   "cell_type": "code",
   "execution_count": 3,
   "id": "41659855",
   "metadata": {},
   "outputs": [
    {
     "name": "stdout",
     "output_type": "stream",
     "text": [
      "Matriz N (I - Q)^-1:\n",
      "[[3.83891213 1.33891213 1.5167364  0.88912134 0.70083682 0.39748954]\n",
      " [2.10251046 2.10251046 1.30753138 1.0251046  0.69037657 0.42887029]\n",
      " [0.57531381 0.57531381 1.72594142 0.75313808 0.71129707 0.36610879]\n",
      " [0.15690377 0.15690377 0.4707113  1.56903766 0.64853556 0.55439331]\n",
      " [0.041841   0.041841   0.12552301 0.41841004 1.50627615 0.48117155]\n",
      " [0.01046025 0.01046025 0.03138075 0.10460251 0.37656904 1.37029289]]\n",
      "\n",
      "Tiempo total esperado hasta que venda la acción empezando en el estado 5: 1.9037656903765687 días\n"
     ]
    }
   ],
   "source": [
    "import numpy as np\n",
    "# Declarar la matriz Q y la matriz identidad \n",
    "\n",
    "Q = np.array([\n",
    "    [3/5, 1/5, 1/5, 0,   0,   0  ],\n",
    "    [2/5, 1/5, 1/5, 1/5, 0,   0  ],\n",
    "    [0,   1/5, 1/5, 1/5, 1/5, 0  ],\n",
    "    [0,   0,   1/5, 1/5, 1/5, 1/5],\n",
    "    [0,   0,   0,   1/5, 1/5, 1/5],\n",
    "    [0,   0,   0,   0,   1/5, 1/5]\n",
    "])\n",
    "\n",
    "# Matriz identidad del mismo tamaño que Q\n",
    "I = np.eye(Q.shape[0])\n",
    "\n",
    "# Calcular (I - Q)\n",
    "I_minus_Q = I - Q\n",
    "\n",
    "# Calcular la inversa de (I - Q)\n",
    "N = np.linalg.inv(I_minus_Q)\n",
    "\n",
    "print(\"Matriz N (I - Q)^-1:\")\n",
    "print(N)\n",
    "\n",
    "# Sumar la fila i = 5, para sacar el tiempo total esperado hasta que venda la accion empezando en el estado 5\n",
    "tiempo_total_esperado = np.sum(N[5, :])\n",
    "print(f\"\\nTiempo total esperado hasta que venda la acción empezando en el estado 5: {tiempo_total_esperado} días\")"
   ]
  }
 ],
 "metadata": {
  "kernelspec": {
   "display_name": ".venv",
   "language": "python",
   "name": "python3"
  },
  "language_info": {
   "codemirror_mode": {
    "name": "ipython",
    "version": 3
   },
   "file_extension": ".py",
   "mimetype": "text/x-python",
   "name": "python",
   "nbconvert_exporter": "python",
   "pygments_lexer": "ipython3",
   "version": "3.11.4"
  }
 },
 "nbformat": 4,
 "nbformat_minor": 5
}
