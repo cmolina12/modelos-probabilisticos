{
 "cells": [
  {
   "metadata": {},
   "cell_type": "markdown",
   "source": [
    "# Modelamiento del sistema\n",
    "\n",
    "* **Temporalidad:** Discreta (observaciones diarias).\n",
    "\n",
    "* **Demanda:**\n",
    "  Sea $D$ la demanda diaria del medicamento.\n",
    "\n",
    "  $$\n",
    "  D \\sim \\text{Poisson}(\\lambda = 3)\n",
    "  $$\n",
    "\n",
    "  $$\n",
    "  P(D = k) = \\frac{3^k e^{-3}}{k!}, \\quad k = 0,1,2,\\dots\n",
    "  $$\n",
    "\n",
    "  $$\n",
    "  P(D \\geq k) = \\sum_{r=k}^{\\infty} \\frac{3^r e^{-3}}{r!}\n",
    "  $$\n",
    "\n",
    "* **Variable de estado:**\n",
    "\n",
    "  $$\n",
    "  X_n = \\text{Número de unidades del medicamento disponibles al inicio del día } n\n",
    "  $$\n",
    "\n",
    "* **Espacio de estados:**\n",
    "\n",
    "  $$\n",
    "  S_X = \\{0,1,2,3,4,5\\}\n",
    "  $$\n",
    "\n",
    "* **Colaboración hospitalaria:**\n",
    "  Si al final del día el inventario queda en **0**, la farmacia entra en cuarentena y el inventario del día siguiente depende de la colaboración de hospitales.\n",
    "\n",
    "  $$\n",
    "  Y \\sim \\text{Binomial}(n=5, p=0.07)\n",
    "  $$\n",
    "\n",
    "  $$\n",
    "  P(Y = k) = \\binom{5}{k}(0.07)^k (0.93)^{5-k}, \\quad k=0,1,\\dots,5\n",
    "  $$\n",
    "\n",
    "* **Política de transición:**\n",
    "\n",
    "$$\n",
    "p_{ij} =\n",
    "\\begin{cases}\n",
    "\\mathbb{P}(D = i - j), & i \\geq 2,\\ j \\neq 0 \\\\\n",
    "\\mathbb{P}(D \\geq i), & i \\geq 2,\\ j = 0 \\\\\n",
    "\\mathbb{P}(D = 5 - j), & 1 \\leq i < 2,\\ j \\neq 0 \\\\\n",
    "\\mathbb{P}(D \\geq 5), & 1 \\leq i < 2,\\ j = 0 \\\\\n",
    "\\mathbb{P}(Y = j), & i = 0,\\ j \\in \\{0,1,\\dots,5\\} \\\\\n",
    "0, & \\text{d.l.c.}\n",
    "\\end{cases}\n",
    "$$\n",
    "\n",
    "\n"
   ],
   "id": "4bf6dc96f7b32a85"
  },
  {
   "metadata": {
    "collapsed": true,
    "ExecuteTime": {
     "end_time": "2025-09-08T01:12:33.137097Z",
     "start_time": "2025-09-08T01:12:33.130416Z"
    }
   },
   "cell_type": "code",
   "source": [
    "import numpy as np\n",
    "from scipy.stats import poisson, binom\n",
    "from jmarkov.dtmc import dtmc"
   ],
   "id": "82768bca1673a54a",
   "outputs": [],
   "execution_count": 13
  },
  {
   "metadata": {
    "ExecuteTime": {
     "end_time": "2025-09-08T01:14:46.003151Z",
     "start_time": "2025-09-08T01:14:46.000287Z"
    }
   },
   "cell_type": "code",
   "source": [
    "# Parametros\n",
    "\n",
    "lmbda = 3 # Tasa de llegada\n",
    "n = 5\n",
    "p = 0.07 # Probabilidad\n",
    "u = 2 # Umbral de reposicion"
   ],
   "id": "d692fe54fb8bffbb",
   "outputs": [],
   "execution_count": 23
  },
  {
   "metadata": {
    "ExecuteTime": {
     "end_time": "2025-09-08T01:14:47.551706Z",
     "start_time": "2025-09-08T01:14:47.548095Z"
    }
   },
   "cell_type": "code",
   "source": [
    "# Espacio de estados\n",
    "estados = np.array([i for i in range(n+1)])\n",
    "\n",
    "# Matriz de transicion\n",
    "matriz_transicion = np.zeros((len(estados), len(estados)))\n"
   ],
   "id": "1c02cd9cfcc64502",
   "outputs": [],
   "execution_count": 24
  },
  {
   "metadata": {
    "ExecuteTime": {
     "end_time": "2025-09-08T01:14:48.630699Z",
     "start_time": "2025-09-08T01:14:48.618485Z"
    }
   },
   "cell_type": "code",
   "source": [
    "def matriz_transicion_func(matriz, lbd, probabilidad, umbral):\n",
    "    for i in range(len(estados)):\n",
    "        for j in range(len(estados)):\n",
    "\n",
    "            if i >= umbral and j != 0:\n",
    "                matriz[i, j] = poisson.pmf(i-j, lbd)\n",
    "            elif i >= umbral and j == 0:\n",
    "                matriz[i, j] = 1-poisson.cdf(i-1, lbd)\n",
    "            elif (1 <= i < umbral) and j != 0:\n",
    "                matriz[i, j] = poisson.pmf(5-j, lbd)\n",
    "            elif (1 <= i < umbral) and j == 0:\n",
    "                matriz[i, j] = 1-poisson.cdf(5-1, lbd)\n",
    "            elif  i == 0 and j in estados:\n",
    "                matriz[i, j] = binom.pmf(j, 5, probabilidad)\n",
    "            else:\n",
    "                matriz[i, j] = 0\n",
    "\n",
    "matriz_transicion_func(matriz_transicion, lmbda, p, u)\n",
    "matriz_transicion"
   ],
   "id": "787499b73448916",
   "outputs": [
    {
     "data": {
      "text/plain": [
       "array([[6.95688369e-01, 2.61818204e-01, 3.94134930e-02, 2.96660700e-03,\n",
       "        1.11646500e-04, 1.68070000e-06],\n",
       "       [1.84736755e-01, 1.68031356e-01, 2.24041808e-01, 2.24041808e-01,\n",
       "        1.49361205e-01, 4.97870684e-02],\n",
       "       [8.00851727e-01, 1.49361205e-01, 4.97870684e-02, 0.00000000e+00,\n",
       "        0.00000000e+00, 0.00000000e+00],\n",
       "       [5.76809919e-01, 2.24041808e-01, 1.49361205e-01, 4.97870684e-02,\n",
       "        0.00000000e+00, 0.00000000e+00],\n",
       "       [3.52768111e-01, 2.24041808e-01, 2.24041808e-01, 1.49361205e-01,\n",
       "        4.97870684e-02, 0.00000000e+00],\n",
       "       [1.84736755e-01, 1.68031356e-01, 2.24041808e-01, 2.24041808e-01,\n",
       "        1.49361205e-01, 4.97870684e-02]])"
      ]
     },
     "execution_count": 25,
     "metadata": {},
     "output_type": "execute_result"
    }
   ],
   "execution_count": 25
  },
  {
   "metadata": {
    "ExecuteTime": {
     "end_time": "2025-09-08T01:14:51.764240Z",
     "start_time": "2025-09-08T01:14:51.761880Z"
    }
   },
   "cell_type": "code",
   "source": "cadena = dtmc(matriz_transicion, estados)",
   "id": "c3bc33f74695de54",
   "outputs": [],
   "execution_count": 26
  },
  {
   "metadata": {},
   "cell_type": "markdown",
   "source": [
    "### a. **¿Cuál es la probabilidad de que el inventario sea igual a 5 dentro de 2 días, si hoy hay 1 unidad?**\n",
    "\n",
    "Queremos calcular:\n",
    "\n",
    "$$\n",
    "P(X_2 = 5 \\mid X_0 = 1)\n",
    "$$\n",
    "\n",
    "Esto corresponde a una **transición de dos pasos**, es decir:\n",
    "\n",
    "$$\n",
    "P(X_2 = 5 \\mid X_0 = 1) = \\big[P^2\\big]_{1,5}\n",
    "$$\n",
    "\n"
   ],
   "id": "1501f355bb63dec2"
  },
  {
   "metadata": {
    "ExecuteTime": {
     "end_time": "2025-09-08T01:14:53.232937Z",
     "start_time": "2025-09-08T01:14:53.228993Z"
    }
   },
   "cell_type": "code",
   "source": [
    "alpha = np.zeros(len(estados))\n",
    "alpha[1] = 1 # estamos en el estado de 1 unidad al 100%\n",
    "\n",
    "dist_paso2 = cadena.transient_probabilities(n=2, alpha=alpha) # n = 2 pasos\n",
    "probabilidad = round(dist_paso2[5],4)\n",
    "print(f\"La probabilidad de que el inventario sea igual a 5 dentro de 2 dias, si hoy hay 1 unidad es de {probabilidad}\")\n"
   ],
   "id": "be48dc767cf0a5e5",
   "outputs": [
    {
     "name": "stdout",
     "output_type": "stream",
     "text": [
      "La probabilidad de que el inventario sea igual a 5 dentro de 2 dias, si hoy hay 1 unidad es de 0.0108\n"
     ]
    }
   ],
   "execution_count": 27
  },
  {
   "metadata": {},
   "cell_type": "markdown",
   "source": [
    "### b. **¿Qué pasaría si el umbral de reposición cambiara de 2 a 3?**\n",
    "¿Se reduciría el riesgo de quiebre?"
   ],
   "id": "8787b2f70ed487dc"
  },
  {
   "metadata": {},
   "cell_type": "markdown",
   "source": [
    "* **Nueva Política de transición:**\n",
    "\n",
    "$$\n",
    "p_{ij} =\n",
    "\\begin{cases}\n",
    "\\mathbb{P}(D = i - j), & i \\geq 3,\\ j \\neq 0 \\\\\n",
    "\\mathbb{P}(D \\geq i), & i \\geq 3,\\ j = 0 \\\\\n",
    "\\mathbb{P}(D = 5 - j), & 1 \\leq i < 3,\\ j \\neq 0 \\\\\n",
    "\\mathbb{P}(D \\geq 5), & 1 \\leq i < 3,\\ j = 0 \\\\\n",
    "\\mathbb{P}(Y = j), & i = 0,\\ j \\in \\{0,1,\\dots,5\\} \\\\\n",
    "0, & \\text{d.l.c.}\n",
    "\\end{cases}\n",
    "$$\n"
   ],
   "id": "5f33b35a056bd0c8"
  },
  {
   "metadata": {
    "ExecuteTime": {
     "end_time": "2025-09-08T01:14:55.400035Z",
     "start_time": "2025-09-08T01:14:55.393940Z"
    }
   },
   "cell_type": "code",
   "source": [
    "matriz_transicion_alt = np.zeros((len(estados), len(estados)))\n",
    "u_nuevo = 3\n",
    "matriz_transicion_func(matriz_transicion_alt, lmbda, p, u_nuevo)\n",
    "\n",
    "matriz_transicion_alt"
   ],
   "id": "9f1798de062e00a6",
   "outputs": [
    {
     "data": {
      "text/plain": [
       "array([[6.95688369e-01, 2.61818204e-01, 3.94134930e-02, 2.96660700e-03,\n",
       "        1.11646500e-04, 1.68070000e-06],\n",
       "       [1.84736755e-01, 1.68031356e-01, 2.24041808e-01, 2.24041808e-01,\n",
       "        1.49361205e-01, 4.97870684e-02],\n",
       "       [1.84736755e-01, 1.68031356e-01, 2.24041808e-01, 2.24041808e-01,\n",
       "        1.49361205e-01, 4.97870684e-02],\n",
       "       [5.76809919e-01, 2.24041808e-01, 1.49361205e-01, 4.97870684e-02,\n",
       "        0.00000000e+00, 0.00000000e+00],\n",
       "       [3.52768111e-01, 2.24041808e-01, 2.24041808e-01, 1.49361205e-01,\n",
       "        4.97870684e-02, 0.00000000e+00],\n",
       "       [1.84736755e-01, 1.68031356e-01, 2.24041808e-01, 2.24041808e-01,\n",
       "        1.49361205e-01, 4.97870684e-02]])"
      ]
     },
     "execution_count": 28,
     "metadata": {},
     "output_type": "execute_result"
    }
   ],
   "execution_count": 28
  },
  {
   "metadata": {
    "ExecuteTime": {
     "end_time": "2025-09-08T01:14:56.855191Z",
     "start_time": "2025-09-08T01:14:56.851008Z"
    }
   },
   "cell_type": "code",
   "source": [
    "mc_vieja = dtmc(matriz_transicion, estados)\n",
    "mc_nueva = dtmc(matriz_transicion_alt, estados)\n",
    "\n",
    "pi_vieja = mc_vieja.steady_state()\n",
    "pi_nueva = mc_nueva.steady_state()\n",
    "\n",
    "print(f\"Distribucion estacionaria con umbral 2: {np.round(pi_vieja,4)}\")\n",
    "print(f\"Distribucion estacionaria con umbral 3: {np.round(pi_nueva,4)}\")\n",
    "print(\"\")\n",
    "print(f\"Probabilidad de quiebre con umbral 2: {round(pi_vieja[0],4)}\")\n",
    "print(f\"Probabilidad de quiebre con umbral 3: {round(pi_nueva[0],4)}\")\n",
    "\n",
    "if pi_nueva[0] < pi_vieja[0]:\n",
    "    print(\"Se reduce el riesgo de quiebre\")\n",
    "else:\n",
    "    print(\"No se reduce el riesgo de quiebre\")"
   ],
   "id": "cd00157d3dc5fbe4",
   "outputs": [
    {
     "name": "stdout",
     "output_type": "stream",
     "text": [
      "Distribucion estacionaria con umbral 2: [0.5648 0.2248 0.098  0.0634 0.0373 0.0118]\n",
      "Distribucion estacionaria con umbral 3: [0.4759 0.2214 0.1289 0.0975 0.058  0.0184]\n",
      "\n",
      "Probabilidad de quiebre con umbral 2: 0.5648\n",
      "Probabilidad de quiebre con umbral 3: 0.4759\n",
      "Se reduce el riesgo de quiebre\n"
     ]
    }
   ],
   "execution_count": 29
  },
  {
   "metadata": {},
   "cell_type": "markdown",
   "source": [
    "### c. **¿Cuánto impacta la probabilidad de colaboración hospitalaria ($p = 0.07$) en la confiabilidad del sistema?**\n",
    "¿Cómo cambiarían las probabilidades si esta subiera a $p = 0.2$?"
   ],
   "id": "c4582b2950072aa9"
  },
  {
   "metadata": {
    "ExecuteTime": {
     "end_time": "2025-09-08T01:24:58.127194Z",
     "start_time": "2025-09-08T01:24:58.089423Z"
    }
   },
   "cell_type": "code",
   "source": [
    "p_nuevo = 0.2 # Nueva probabilidad de colaboracion\n",
    "\n",
    "matriz_transicion_colab = np.zeros((len(estados), len(estados))) # Matriz de transicion con nueva probabilidad\n",
    "\n",
    "matriz_transicion_func(matriz_transicion_colab, lmbda, p_nuevo, u)\n",
    "\n",
    "mc_colab = dtmc(matriz_transicion_colab, estados) # Cadena de Markov con nueva probabilidad\n",
    "\n",
    "alpha_cuarentena = np.zeros(len(estados)) # Distribucion inicial\n",
    "alpha_cuarentena[0] = 1 # Estamos en el estado de quiebre al 100%\n",
    "dist_colab = mc_colab.transient_probabilities(n=1, alpha=alpha_cuarentena) # Distribucion despues de 1 dia\n",
    "\n",
    "# Probabilidad de tener > 1 unidad despues de 1 dia\n",
    "probabilidad_colab = round(sum(dist_colab[1:]),4)\n",
    "\n",
    "dist_vieja = mc_vieja.transient_probabilities(n=1, alpha=alpha_cuarentena)\n",
    "\n",
    "# Probabilidad de tener > 1 unidad despues de 1 dia con probabilidad vieja\n",
    "probabilidad_vieja = round(sum(dist_vieja[1:]),4)\n",
    "\n",
    "print(f\"Probabilidad de tener mas de 1 unidad despues de 1 dia con p=0.07: {probabilidad_vieja}\")\n",
    "print(f\"Probabilidad de tener mas de 1 unidad despues de 1 dia con p=0.2: {probabilidad_colab}\")\n",
    "\n"
   ],
   "id": "d4830eb239934724",
   "outputs": [
    {
     "name": "stdout",
     "output_type": "stream",
     "text": [
      "Probabilidad de tener mas de 1 unidad despues de 1 dia con p=0.07: 0.3043\n",
      "Probabilidad de tener mas de 1 unidad despues de 1 dia con p=0.2: 0.6723\n"
     ]
    }
   ],
   "execution_count": 31
  }
 ],
 "metadata": {
  "kernelspec": {
   "display_name": "Python 3 (ipykernel)",
   "language": "python",
   "name": "python3"
  },
  "language_info": {
   "codemirror_mode": {
    "name": "ipython",
    "version": 2
   },
   "file_extension": ".py",
   "mimetype": "text/x-python",
   "name": "python",
   "nbconvert_exporter": "python",
   "pygments_lexer": "ipython2",
   "version": "2.7.6"
  }
 },
 "nbformat": 4,
 "nbformat_minor": 5
}
