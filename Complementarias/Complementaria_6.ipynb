{
 "cells": [
  {
   "cell_type": "markdown",
   "id": "99b50e19",
   "metadata": {},
   "source": [
    "# Complementaria semana 6"
   ]
  },
  {
   "cell_type": "code",
   "execution_count": 1,
   "id": "f2461d9d",
   "metadata": {},
   "outputs": [],
   "source": [
    "#Importar las librerías\n",
    "import numpy as np\n",
    "from jmarkov.ctmc import ctmc"
   ]
  },
  {
   "cell_type": "code",
   "execution_count": 2,
   "id": "0b7317e9",
   "metadata": {},
   "outputs": [],
   "source": [
    "#Tasas a utilizar\n",
    "tasa_ambiente_alto = 0.1\n",
    "tasa_ambiente_bajo = 0.2\n",
    "tasa_corrosion_alto_bajo = 0.3\n",
    "tasa_corrosion_bajo_alto = 0.4"
   ]
  },
  {
   "cell_type": "markdown",
   "id": "5c7a5359",
   "metadata": {},
   "source": [
    "### Vector de estados"
   ]
  },
  {
   "cell_type": "code",
   "execution_count": 3,
   "id": "bd5da3ad",
   "metadata": {},
   "outputs": [
    {
     "data": {
      "text/plain": [
       "[1, 2, 3, 4, 5]"
      ]
     },
     "execution_count": 3,
     "metadata": {},
     "output_type": "execute_result"
    }
   ],
   "source": [
    "# S_X = {1, 2, 3, 4, 5}\n",
    "estados_corrosion = [i for i in range(1,6)]\n",
    "estados_corrosion"
   ]
  },
  {
   "cell_type": "code",
   "execution_count": 4,
   "id": "c3c54c24",
   "metadata": {},
   "outputs": [
    {
     "data": {
      "text/plain": [
       "['Alto', 'Bajo']"
      ]
     },
     "execution_count": 4,
     "metadata": {},
     "output_type": "execute_result"
    }
   ],
   "source": [
    "# S_Y = {'Alto', 'Bajo'}\n",
    "estados_ambiente = ['Alto', 'Bajo']\n",
    "estados_ambiente"
   ]
  },
  {
   "cell_type": "code",
   "execution_count": 5,
   "id": "8f6c198e",
   "metadata": {},
   "outputs": [
    {
     "data": {
      "text/plain": [
       "array(['1,Alto', '1,Bajo', '2,Alto', '2,Bajo', '3,Alto', '3,Bajo',\n",
       "       '4,Alto', '4,Bajo', '5,Alto', '5,Bajo'], dtype='<U6')"
      ]
     },
     "execution_count": 5,
     "metadata": {},
     "output_type": "execute_result"
    }
   ],
   "source": [
    "# S_Z = S_X x S_Y (todas las combinaciones posibles)\n",
    "estados = []\n",
    "for i in estados_corrosion:\n",
    "    for j in estados_ambiente:\n",
    "        estado = \",\".join((str(i),str(j))) # Une dos elementos como strings separados por una coma\n",
    "        estados.append(estado) # Lo agrega a la lista de estados\n",
    "\n",
    "estados = np.array(estados)\n",
    "estados"
   ]
  },
  {
   "cell_type": "markdown",
   "id": "fec959a8",
   "metadata": {},
   "source": [
    "### Matriz de ceros"
   ]
  },
  {
   "cell_type": "code",
   "execution_count": 6,
   "id": "85ab5308",
   "metadata": {},
   "outputs": [
    {
     "data": {
      "text/plain": [
       "array([[0., 0., 0., 0., 0., 0., 0., 0., 0., 0.],\n",
       "       [0., 0., 0., 0., 0., 0., 0., 0., 0., 0.],\n",
       "       [0., 0., 0., 0., 0., 0., 0., 0., 0., 0.],\n",
       "       [0., 0., 0., 0., 0., 0., 0., 0., 0., 0.],\n",
       "       [0., 0., 0., 0., 0., 0., 0., 0., 0., 0.],\n",
       "       [0., 0., 0., 0., 0., 0., 0., 0., 0., 0.],\n",
       "       [0., 0., 0., 0., 0., 0., 0., 0., 0., 0.],\n",
       "       [0., 0., 0., 0., 0., 0., 0., 0., 0., 0.],\n",
       "       [0., 0., 0., 0., 0., 0., 0., 0., 0., 0.],\n",
       "       [0., 0., 0., 0., 0., 0., 0., 0., 0., 0.]])"
      ]
     },
     "execution_count": 6,
     "metadata": {},
     "output_type": "execute_result"
    }
   ],
   "source": [
    "#Crear una matriz de ceros\n",
    "matrizQ = np.zeros((len(estados),len(estados)))\n",
    "matrizQ"
   ]
  },
  {
   "cell_type": "markdown",
   "id": "291547c0",
   "metadata": {},
   "source": [
    "### Explicación uso `enumerate`"
   ]
  },
  {
   "cell_type": "code",
   "execution_count": 7,
   "id": "9bb154af",
   "metadata": {},
   "outputs": [
    {
     "name": "stdout",
     "output_type": "stream",
     "text": [
      "0 -> 1,Alto\n",
      "1 -> 1,Bajo\n",
      "2 -> 2,Alto\n",
      "3 -> 2,Bajo\n",
      "4 -> 3,Alto\n",
      "5 -> 3,Bajo\n",
      "6 -> 4,Alto\n",
      "7 -> 4,Bajo\n",
      "8 -> 5,Alto\n",
      "9 -> 5,Bajo\n"
     ]
    }
   ],
   "source": [
    "# Recorrido de los estados con enumerate para obtener el índice (posición) y el valor (estado_inicial (i,j)) de cada estado.\n",
    "for indice, estado_inicial in enumerate(estados):\n",
    "    print(indice, \"->\", estado_inicial)"
   ]
  },
  {
   "cell_type": "markdown",
   "id": "8e6a9df3",
   "metadata": {},
   "source": [
    "### Explicación uso `split`"
   ]
  },
  {
   "cell_type": "code",
   "execution_count": 8,
   "id": "78bbe720",
   "metadata": {},
   "outputs": [
    {
     "name": "stdout",
     "output_type": "stream",
     "text": [
      "0 -> 1,Alto -> 1 Alto\n",
      "1 -> 1,Bajo -> 1 Bajo\n",
      "2 -> 2,Alto -> 2 Alto\n",
      "3 -> 2,Bajo -> 2 Bajo\n",
      "4 -> 3,Alto -> 3 Alto\n",
      "5 -> 3,Bajo -> 3 Bajo\n",
      "6 -> 4,Alto -> 4 Alto\n",
      "7 -> 4,Bajo -> 4 Bajo\n",
      "8 -> 5,Alto -> 5 Alto\n",
      "9 -> 5,Bajo -> 5 Bajo\n"
     ]
    }
   ],
   "source": [
    "# Usar split para obtener i y j (niveles de corrosión y ambiente) del estado inicial (i,j)\n",
    "for indice, estado_inicial in enumerate(estados):\n",
    "    i = int(estado_inicial.split(\",\")[0])\n",
    "    j = estado_inicial.split(\",\")[1]\n",
    "    print(indice, \"->\", estado_inicial, \"->\", i, j)\n"
   ]
  },
  {
   "cell_type": "markdown",
   "id": "302905c7",
   "metadata": {},
   "source": [
    "### Llenar la matriz de transición"
   ]
  },
  {
   "cell_type": "code",
   "execution_count": 9,
   "id": "aa7976b2",
   "metadata": {},
   "outputs": [
    {
     "data": {
      "text/plain": [
       "array([[-0.4,  0.3,  0.1,  0. ,  0. ,  0. ,  0. ,  0. ,  0. ,  0. ],\n",
       "       [ 0.4, -0.5,  0. ,  0.1,  0. ,  0. ,  0. ,  0. ,  0. ,  0. ],\n",
       "       [ 0.2,  0. , -0.6,  0.3,  0.1,  0. ,  0. ,  0. ,  0. ,  0. ],\n",
       "       [ 0. ,  0.2,  0.4, -0.7,  0. ,  0.1,  0. ,  0. ,  0. ,  0. ],\n",
       "       [ 0. ,  0. ,  0.2,  0. , -0.6,  0.3,  0.1,  0. ,  0. ,  0. ],\n",
       "       [ 0. ,  0. ,  0. ,  0.2,  0.4, -0.7,  0. ,  0.1,  0. ,  0. ],\n",
       "       [ 0. ,  0. ,  0. ,  0. ,  0.2,  0. , -0.6,  0.3,  0.1,  0. ],\n",
       "       [ 0. ,  0. ,  0. ,  0. ,  0. ,  0.2,  0.4, -0.7,  0. ,  0.1],\n",
       "       [ 0. ,  0. ,  0. ,  0. ,  0. ,  0. ,  0.2,  0. , -0.5,  0.3],\n",
       "       [ 0. ,  0. ,  0. ,  0. ,  0. ,  0. ,  0. ,  0.2,  0.4, -0.6]])"
      ]
     },
     "execution_count": 9,
     "metadata": {},
     "output_type": "execute_result"
    }
   ],
   "source": [
    "for fila, estado_inicial in enumerate(estados): # El índice del estado inicial es la fila\n",
    "\n",
    "    # Estado inicial: (i,j)\n",
    "    i = int(estado_inicial.split(\",\")[0])\n",
    "    j = estado_inicial.split(\",\")[1]\n",
    "\n",
    "    for columna, estado_futuro in enumerate(estados): # El índice del estado futuro es la columna\n",
    "        \n",
    "        # Estado futuro: (i',j')\n",
    "        i_ = int(estado_futuro.split(\",\")[0])\n",
    "        j_ = estado_futuro.split(\",\")[1]\n",
    "\n",
    "        if i_==i+1 and j_==j and i<5:\n",
    "            matrizQ[fila,columna] = tasa_ambiente_alto\n",
    "        elif i_==i-1 and j_==j and i>1:\n",
    "            matrizQ[fila,columna] = tasa_ambiente_bajo\n",
    "        elif i_==i and j==\"Alto\" and j_==\"Bajo\":\n",
    "            matrizQ[fila,columna] = tasa_corrosion_alto_bajo\n",
    "        elif i_ ==i and j==\"Bajo\" and j_==\"Alto\":\n",
    "            matrizQ[fila,columna] = tasa_corrosion_bajo_alto\n",
    "\n",
    "# Llenamos la diagonal\n",
    "for fila, estado_inicial in enumerate(estados):\n",
    "    matrizQ[fila,fila] = -sum(matrizQ[fila,:])\n",
    "\n",
    "matrizQ"
   ]
  },
  {
   "cell_type": "code",
   "execution_count": 10,
   "id": "4be07eb6",
   "metadata": {},
   "outputs": [
    {
     "data": {
      "text/plain": [
       "array([-2.77555756e-17,  2.77555756e-17,  2.77555756e-17, -2.77555756e-17,\n",
       "        2.77555756e-17, -2.77555756e-17,  2.77555756e-17, -2.77555756e-17,\n",
       "        0.00000000e+00,  0.00000000e+00])"
      ]
     },
     "execution_count": 10,
     "metadata": {},
     "output_type": "execute_result"
    }
   ],
   "source": [
    "# Verificar que las filas sumen cero\n",
    "np.sum(matrizQ, axis=1)\n",
    "\n",
    "# Puede pasar que no sean exactamente cero, pero deben ser muy cercanas a cero"
   ]
  },
  {
   "cell_type": "markdown",
   "id": "55a81a4f",
   "metadata": {},
   "source": [
    "### Crear objeto CMTC"
   ]
  },
  {
   "cell_type": "code",
   "execution_count": 11,
   "id": "dbcaf3ba",
   "metadata": {},
   "outputs": [],
   "source": [
    "# Creamos el objeto cadena\n",
    "cadena = ctmc(matrizQ)"
   ]
  },
  {
   "cell_type": "markdown",
   "id": "b9da1678",
   "metadata": {},
   "source": [
    "### Pregunta 1: análisis transitorio (probabilidad)"
   ]
  },
  {
   "cell_type": "code",
   "execution_count": 12,
   "id": "65137d43",
   "metadata": {},
   "outputs": [
    {
     "data": {
      "text/plain": [
       "array([0.03225762])"
      ]
     },
     "execution_count": 12,
     "metadata": {},
     "output_type": "execute_result"
    }
   ],
   "source": [
    "# Definir la distribución inicial\n",
    "alpha = np.zeros(len(estados))\n",
    "alpha[np.where(estados== \"1,Alto\")]=0.5\n",
    "alpha[np.where(estados== \"1,Bajo\")]=0.5\n",
    "\n",
    "# Analizar las probabilidades de estado transitorio\n",
    "probs_transitorio = cadena.transient_probabilities(24*7, alpha)\n",
    "estado_interes1 = np.where(estados== \"5,Alto\")\n",
    "estado_interes2 = np.where(estados== \"5,Bajo\")\n",
    "\n",
    "# Calcular la probabilidad de interés\n",
    "prob_interes = probs_transitorio[estado_interes1]+probs_transitorio[estado_interes2]\n",
    "prob_interes"
   ]
  },
  {
   "cell_type": "markdown",
   "id": "e81fd64e",
   "metadata": {},
   "source": [
    "### Pregunta 2: tiempo de ocupación"
   ]
  },
  {
   "cell_type": "code",
   "execution_count": 13,
   "id": "484f2ba4",
   "metadata": {},
   "outputs": [
    {
     "data": {
      "text/plain": [
       "np.float64(34.4620179949542)"
      ]
     },
     "execution_count": 13,
     "metadata": {},
     "output_type": "execute_result"
    }
   ],
   "source": [
    "#Calcular el tiempo de ocupación\n",
    "tiempo_ocupacion = cadena.occupation_time(2*7*24)\n",
    "tiempo_interes = 0\n",
    "estado_inicial = np.where(estados == \"3,Alto\")\n",
    "\n",
    "# Calcular el tiempo de ocupación para estados de interés\n",
    "for columna, estado_futuro in enumerate(estados):\n",
    "    i_ = int(estado_futuro.split(\",\")[0])\n",
    "    j_ = estado_futuro.split(\",\")[1]\n",
    "    if i_>=4:\n",
    "        tiempo_interes += tiempo_ocupacion[estado_inicial, columna][0][0] # El [0][0] es para obtener solamente el valor numérico del array que devuelve la función\n",
    "\n",
    "tiempo_interes"
   ]
  },
  {
   "cell_type": "markdown",
   "id": "aa68273b",
   "metadata": {},
   "source": [
    "### Pregunta 3: tiempo de primera pasada"
   ]
  },
  {
   "cell_type": "code",
   "execution_count": 14,
   "id": "f4d08c30",
   "metadata": {},
   "outputs": [
    {
     "data": {
      "text/plain": [
       "np.float64(276.4706507868981)"
      ]
     },
     "execution_count": 14,
     "metadata": {},
     "output_type": "execute_result"
    }
   ],
   "source": [
    "# Calcular el tiempo de primera pasada\n",
    "\n",
    "# Estados de interés\n",
    "estado_inicial = np.where(estados=='2,Bajo')\n",
    "estado_futuro = np.where(estados == '5,Alto')\n",
    "\n",
    "# Calcular el tiempo\n",
    "cadena.first_passage_time(estado_futuro)[estado_inicial][0][0]  # El [0][0] es para obtener solamente el valor numérico del array que devuelve la función\n"
   ]
  },
  {
   "cell_type": "code",
   "execution_count": 15,
   "id": "627ac1cb",
   "metadata": {},
   "outputs": [
    {
     "data": {
      "text/plain": [
       "array([[276.47065079]])"
      ]
     },
     "execution_count": 15,
     "metadata": {},
     "output_type": "execute_result"
    }
   ],
   "source": [
    "# Sin el [0][0] la función devuelve un array, por lo que se ve así:\n",
    "cadena.first_passage_time(estado_futuro)[estado_inicial] "
   ]
  }
 ],
 "metadata": {
  "kernelspec": {
   "display_name": ".venv",
   "language": "python",
   "name": "python3"
  },
  "language_info": {
   "codemirror_mode": {
    "name": "ipython",
    "version": 3
   },
   "file_extension": ".py",
   "mimetype": "text/x-python",
   "name": "python",
   "nbconvert_exporter": "python",
   "pygments_lexer": "ipython3",
   "version": "3.10.18"
  }
 },
 "nbformat": 4,
 "nbformat_minor": 5
}
