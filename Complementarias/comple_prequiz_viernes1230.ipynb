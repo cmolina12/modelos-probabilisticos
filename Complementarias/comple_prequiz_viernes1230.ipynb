{
 "cells": [
  {
   "cell_type": "markdown",
   "id": "bde91be5",
   "metadata": {},
   "source": [
    "# Ejercicio 1 - Punto de alquiler de vehículos\n",
    "\n",
    "## Enunciado\n",
    "\n",
    "> Un punto de alquiler de vehículos opera continuamente (24/7) y recibe solicitudes de alquiler de acuerdo con un **proceso de Poisson** con tasa $\\lambda$ por hora. El punto cuenta con **50 vehículos** para alquilar y se estima que un **alquiler** toma un **tiempo exponencial** con **media $m$ días**. Los tiempos de alquiler son independientes entre sí y también son independientes de los tiempos entre solicitudes de alquiler. Usted se encuentra analizando el desempeño de este punto de alquiler, para lo cual debe resolver las siguientes preguntas:\n",
    ">\n",
    "> **a.** Provea una expresión que permita calcular la **probabilidad** de que en **un día** de operación **lleguen menos de 5** solicitudes de alquiler.\n",
    "> **b.** Provea una expresión que permita calcular la **probabilidad** de que el **tiempo entre la primera y la segunda** solicitud de alquiler sea **menor a una hora**.\n",
    "> **c.** Modele este sistema empleando una **cadena de Markov**. Exprese claramente todos los elementos de su modelo. Las **tasas o probabilidades de transición** deben expresarlas de manera general (**forma implícita**).\n",
    "> **d.** Suponga ahora que cada vez que llega una solicitud de alquiler, esta es **exitosa** (se alquila el vehículo) con **probabilidad $p_e$**. Modifique su modelo del numeral anterior para capturar esta modificación. Exprese claramente todos los elementos de su modelo. Las **tasas o probabilidades de transición** deben expresarlas de manera general (**forma implícita**).\n",
    "\n",
    "## a. Provea una expresión que permita calcular la **probabilidad** de que en **un día** de operación **lleguen menos de 5** solicitudes de alquiler.\n",
    "\n",
    "**Relacionado:** [[Distribucion de Poisson]] (Menos de $k$ llegadas)\n",
    "\n",
    "\n",
    "$$\n",
    "P(X<k)=\\sum_{i=0}^{k-1}\\frac{(\\lambda t)^{i}e^{-\\lambda t}}{i!}\n",
    "$$\n",
    "$$\n",
    "P(N(24)<5)=\\sum_{i=0}^{4}\\frac{( \\lambda*24)^{i}e^{-\\lambda *24}}{i!}\n",
    "$$\n",
    "\n",
    "\n",
    "$$\n",
    "P\\{N(24)<5\\} =\n",
    "e^{-\\lambda\\cdot 24}\n",
    "\\Bigg[\n",
    "\\frac{(\\lambda\\cdot 24)^0}{0!}+\n",
    "\\frac{(\\lambda\\cdot 24)^1}{1!}+\n",
    "\\frac{(\\lambda\\cdot 24)^2}{2!}+\n",
    "\\frac{(\\lambda\\cdot 24)^3}{3!}+\n",
    "\\frac{(\\lambda\\cdot 24)^4}{4!}\n",
    "\\Bigg].\n",
    "$$\n",
    "\n",
    "## b. Provea una expresión que permita calcular la probabilidad de que el tiempo entre la primera y la segunda solicitud de alquiler sea menor a una hora.\n",
    "\n",
    "**Relacionado:** [[Distribucion Exponencial]] (Funcion de distribucion acumulada)\n",
    "\n",
    "\n",
    "$$\n",
    "P(T\\leq 1)=1-e^{-\\lambda}\n",
    "$$\n",
    "## **c.** Modele este sistema empleando una **cadena de Markov**. Exprese claramente todos los elementos de su modelo. Las **tasas o probabilidades de transición** deben expresarlas de manera general (**forma implícita**).\n",
    "\n",
    "### Parametros\n",
    "- Solicitudes de alquiler segun **Poisson** con tasa $\\lambda$ (por **hora**)\n",
    "- Duracion de un alquiler **exponencial** con **media** $m$ dias\n",
    "\t- $$\n",
    "\\mu=\\frac{1}{m}\\text{ dias}=\\frac{24}{m}\\text{ horas}\n",
    "$$\n",
    "### Variable\n",
    "$$\n",
    "X_{n}:\\text{ Numero de vehiculos alquilados en el tiempo } t\n",
    "$$\n",
    "### Espacio de estado\n",
    "$$\n",
    "S_{x}=\\{0,1,2,3,\\dots,50\\}\n",
    "$$\n",
    "### Matriz generadora\n",
    "- La exponenciales compiten por terminar primero (n=i)\n",
    "$$\n",
    "\\begin{bmatrix}\n",
    "&0&1&2&3&\\dots&50 \\\\\n",
    "0&-\\lambda&\\lambda&0&0&&0 \\\\\n",
    "1&n\\mu&-(n\\mu+\\lambda)&\\lambda&0&&0 \\\\\n",
    "2&0&n\\mu&-(n\\mu+\\lambda)&\\lambda&&0 \\\\\n",
    "3&0&0&n\\mu&\\dots \\\\\n",
    "\\dots \\\\\n",
    "50&\n",
    "\\end{bmatrix}\n",
    "$$\n",
    "\n",
    "$$\n",
    "\\begin{cases}\n",
    "\\lambda&j=i+1,i<50 \\\\\n",
    "n\\mu&j=i-1,j>0,n=i\\\\\n",
    "0&d.l.c\n",
    "\\end{cases}\n",
    "\n",
    "$$\n",
    "\n",
    "## **d.** Suponga ahora que cada vez que llega una solicitud de alquiler, esta es **exitosa** (se alquila el vehículo) con **probabilidad $p_e$**. Modifique su modelo del numeral anterior para capturar esta modificación. Exprese claramente todos los elementos de su modelo. Las **tasas o probabilidades de transición** deben expresarlas de manera general (**forma implícita**).\n",
    "\n",
    "### Parametros\n",
    "- Solicitudes de alquiler segun **Poisson** con tasa $\\lambda$ (por **hora**)\n",
    "- Probabilidad de exito de una solicitud $p_{e}$ (independiente)\n",
    "- Por lo tanto, $\\lambda_{\\text{efectivo}}=\\lambda p_{e}$\n",
    "- Duracion de un alquiler **exponencial** con **media** $m$ dias\n",
    "\t- $$\n",
    "\\mu=\\frac{1}{m}\\text{ dias}=\\frac{24}{m}\\text{ horas}\n",
    "$$\n",
    "### Variable\n",
    "$$\n",
    "X_{n}:\\text{ Numero de vehiculos alquilados en el tiempo } t\n",
    "$$\n",
    "### Espacio de estado\n",
    "$$\n",
    "S_{x}=\\{0,1,2,3,\\dots,50\\}\n",
    "$$\n",
    "### Matriz generadora\n",
    "- La exponenciales compiten por terminar primero (n=i)\n",
    "$$\n",
    "\\begin{bmatrix}\n",
    "&0&1&2&3&\\dots&50 \\\\\n",
    "0&-\\lambda p_{e}&\\lambda p_{e}&0&0&&0 \\\\\n",
    "1&n\\mu&-(n\\mu+\\lambda p_{e})&\\lambda p_{e}&0&&0 \\\\\n",
    "2&0&n\\mu&-(n\\mu+\\lambda)&\\lambda p_{e}&&0 \\\\\n",
    "3&0&0&n\\mu&\\dots \\\\\n",
    "\\dots \\\\\n",
    "50&\n",
    "\\end{bmatrix}\n",
    "$$\n",
    "\n",
    "$$\n",
    "\\begin{cases}\n",
    "\\lambda p_{e}&j=i+1,i<50 \\\\\n",
    "n\\mu&j=i-1,j>0,n=i\\\\\n",
    "0&d.l.c\n",
    "\\end{cases}\n",
    "\n",
    "$$"
   ]
  },
  {
   "cell_type": "code",
   "execution_count": 2,
   "id": "65bf33d0",
   "metadata": {},
   "outputs": [],
   "source": [
    "# Importar las librerías necesarias \n",
    "import numpy as np  \n",
    "from jmarkov.ctmc import ctmc\n",
    "\n",
    "\n",
    "from scipy.stats import poisson "
   ]
  },
  {
   "cell_type": "code",
   "execution_count": 3,
   "id": "3b9ef139",
   "metadata": {},
   "outputs": [],
   "source": [
    "# Parametros \n",
    "lambda_alquiler = 7 \n",
    "m = 12 \n",
    "N = 50 "
   ]
  },
  {
   "cell_type": "markdown",
   "id": "01ee11d8",
   "metadata": {},
   "source": [
    "¿Cuál es la probabilidad de que lleguen menos de 5 solicitudes de alquiler en un día?"
   ]
  },
  {
   "cell_type": "code",
   "execution_count": 4,
   "id": "c1d2e115",
   "metadata": {},
   "outputs": [
    {
     "data": {
      "text/plain": [
       "np.float64(3.7149636358541743e-66)"
      ]
     },
     "execution_count": 4,
     "metadata": {},
     "output_type": "execute_result"
    }
   ],
   "source": [
    "p_menos5 = poisson.cdf(4,lambda_alquiler*24)\n",
    "p_menos5"
   ]
  },
  {
   "cell_type": "markdown",
   "id": "adc34aae",
   "metadata": {},
   "source": [
    "¿Cuál es la probabilidad de que el tiempo entre la primera y la segunda solicitud sea menor a 1 hora?"
   ]
  },
  {
   "cell_type": "code",
   "execution_count": 5,
   "id": "76f7a87a",
   "metadata": {},
   "outputs": [
    {
     "data": {
      "text/plain": [
       "np.float64(0.9990881180344455)"
      ]
     },
     "execution_count": 5,
     "metadata": {},
     "output_type": "execute_result"
    }
   ],
   "source": [
    "p_menos_1h = 1 - np.exp(-lambda_alquiler)\n",
    "p_menos_1h"
   ]
  },
  {
   "cell_type": "markdown",
   "id": "b51a4de1",
   "metadata": {},
   "source": [
    "Modele como una cadena de Markov"
   ]
  },
  {
   "cell_type": "code",
   "execution_count": null,
   "id": "6c6463f4",
   "metadata": {},
   "outputs": [],
   "source": [
    "# Defino mi espacio de estados\n",
    "estadosAlquiler = np.array([i for i in range(0,N+1)])\n",
    "\n",
    "# Crear una matriz llena de ceros\n",
    "matrizAlquiler = np.zeros((len(estadosAlquiler),len(estadosAlquiler)))\n",
    "\n",
    "# Recorro sobre las filas\n",
    "for i in estadosAlquiler:\n",
    "    # Recorro sobre las columnas\n",
    "    for j in estadosAlquiler:\n",
    "        # Que llegue una solicitud de alquiler\n",
    "        if j==i+1 and i<N:\n",
    "            matrizAlquiler[i,j] = lambda_alquiler\n",
    "        # Que me devuelvan un carro \n",
    "        elif j==i-1 and i>0:\n",
    "            matrizAlquiler[i,j] = (i/(24*m))\n",
    "\n",
    "# Lleno la diagonal\n",
    "for i in estadosAlquiler:\n",
    "    matrizAlquiler[i,i] = -np.sum(matrizAlquiler[i,:]) \n",
    "\n",
    "cadenaAqluiler = ctmc(matrizAlquiler)"
   ]
  },
  {
   "cell_type": "code",
   "execution_count": 10,
   "id": "cc3be3f5",
   "metadata": {},
   "outputs": [],
   "source": [
    "# Importar las librerías \n",
    "import numpy as np\n",
    "from jmarkov.dtmc import dtmc"
   ]
  },
  {
   "cell_type": "code",
   "execution_count": 14,
   "id": "da01c6ba",
   "metadata": {},
   "outputs": [],
   "source": [
    "# Definir mi espacio de estados\n",
    "estadosIslas = np.array([0,1,2,3])\n",
    "# Crear mi matriz\n",
    "matrizIslas = np.array([\n",
    "    [1/4, 3/4, 0, 0],\n",
    "    [(1/4)*(1/3), ((1/4)*(2/3))+((3/4)*(1/3)), (2/3)*(3/4), 0],\n",
    "    [0, (1/4)*(1/3), ((1/4)*(2/3))+((3/4)*(1/3)),  (2/3)*(3/4) ],\n",
    "    [0, 0, (1/3)*(1/4), ((1/3)*(3/4))+(2/3)]\n",
    "])\n",
    "\n",
    "# Verificar que la suma de las filas me de 1 \n",
    "np.sum(matrizIslas, axis=1)\n",
    "\n",
    "# Creo el objeto\n",
    "cadenaIslas = dtmc(matrizIslas)"
   ]
  },
  {
   "cell_type": "code",
   "execution_count": 15,
   "id": "2b4ff0d1",
   "metadata": {},
   "outputs": [
    {
     "name": "stdout",
     "output_type": "stream",
     "text": [
      "[[0.25       0.75       0.         0.        ]\n",
      " [0.08333333 0.41666667 0.5        0.        ]\n",
      " [0.         0.08333333 0.41666667 0.5       ]\n",
      " [0.         0.         0.08333333 0.91666667]]\n"
     ]
    }
   ],
   "source": [
    "print(matrizIslas)"
   ]
  },
  {
   "cell_type": "code",
   "execution_count": 16,
   "id": "3686e6cd",
   "metadata": {},
   "outputs": [],
   "source": [
    "from scipy.stats import binom "
   ]
  },
  {
   "cell_type": "markdown",
   "id": "0230dffc",
   "metadata": {},
   "source": [
    "Determine la probabilidad de que todos los equipos fallen en el siguiente mes"
   ]
  },
  {
   "cell_type": "code",
   "execution_count": 17,
   "id": "42d7d108",
   "metadata": {},
   "outputs": [
    {
     "data": {
      "text/plain": [
       "np.float64(0.4096000000000002)"
      ]
     },
     "execution_count": 17,
     "metadata": {},
     "output_type": "execute_result"
    }
   ],
   "source": [
    "n = 4\n",
    "p = 0.8\n",
    "prob_todos_fallen = binom.pmf(4,n,p)\n",
    "prob_todos_fallen"
   ]
  },
  {
   "cell_type": "markdown",
   "id": "0bdf1976",
   "metadata": {},
   "source": [
    "Valor esperado de los que NO fallan"
   ]
  },
  {
   "cell_type": "code",
   "execution_count": 18,
   "id": "ffdfb503",
   "metadata": {},
   "outputs": [
    {
     "data": {
      "text/plain": [
       "0.7999999999999998"
      ]
     },
     "execution_count": 18,
     "metadata": {},
     "output_type": "execute_result"
    }
   ],
   "source": [
    "esperanza_no_fallan = n*(1-p)\n",
    "esperanza_no_fallan"
   ]
  },
  {
   "cell_type": "markdown",
   "id": "8a159127",
   "metadata": {},
   "source": [
    "Probabilidad de que después de la etapa de reparación estén los 4 equipos funcionando"
   ]
  },
  {
   "cell_type": "code",
   "execution_count": 19,
   "id": "b90497d8",
   "metadata": {},
   "outputs": [
    {
     "data": {
      "text/plain": [
       "np.float64(0.014399999999999986)"
      ]
     },
     "execution_count": 19,
     "metadata": {},
     "output_type": "execute_result"
    }
   ],
   "source": [
    "p0 = binom.pmf(0,n,p)\n",
    "p1 = binom.pmf(1,n,p)\n",
    "\n",
    "prob_total = p0 + p1*(1/2)\n",
    "prob_total"
   ]
  }
 ],
 "metadata": {
  "kernelspec": {
   "display_name": "Python 3",
   "language": "python",
   "name": "python3"
  },
  "language_info": {
   "codemirror_mode": {
    "name": "ipython",
    "version": 3
   },
   "file_extension": ".py",
   "mimetype": "text/x-python",
   "name": "python",
   "nbconvert_exporter": "python",
   "pygments_lexer": "ipython3",
   "version": "3.13.3"
  }
 },
 "nbformat": 4,
 "nbformat_minor": 5
}
