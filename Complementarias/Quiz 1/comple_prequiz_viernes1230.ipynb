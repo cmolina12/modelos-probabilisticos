{
 "cells": [
  {
   "cell_type": "markdown",
   "id": "bde91be5",
   "metadata": {},
   "source": [
    "# Ejercicio 1 - Punto de alquiler de vehículos\n",
    "\n",
    "## Enunciado\n",
    "\n",
    "> Un punto de alquiler de vehículos opera continuamente (24/7) y recibe solicitudes de alquiler de acuerdo con un **proceso de Poisson** con tasa $\\lambda$ por hora. El punto cuenta con **50 vehículos** para alquilar y se estima que un **alquiler** toma un **tiempo exponencial** con **media $m$ días**. Los tiempos de alquiler son independientes entre sí y también son independientes de los tiempos entre solicitudes de alquiler. Usted se encuentra analizando el desempeño de este punto de alquiler, para lo cual debe resolver las siguientes preguntas:\n",
    ">\n",
    "> **a.** Provea una expresión que permita calcular la **probabilidad** de que en **un día** de operación **lleguen menos de 5** solicitudes de alquiler.\n",
    "> **b.** Provea una expresión que permita calcular la **probabilidad** de que el **tiempo entre la primera y la segunda** solicitud de alquiler sea **menor a una hora**.\n",
    "> **c.** Modele este sistema empleando una **cadena de Markov**. Exprese claramente todos los elementos de su modelo. Las **tasas o probabilidades de transición** deben expresarlas de manera general (**forma implícita**).\n",
    "> **d.** Suponga ahora que cada vez que llega una solicitud de alquiler, esta es **exitosa** (se alquila el vehículo) con **probabilidad $p_e$**. Modifique su modelo del numeral anterior para capturar esta modificación. Exprese claramente todos los elementos de su modelo. Las **tasas o probabilidades de transición** deben expresarlas de manera general (**forma implícita**).\n",
    "\n",
    "## a. Provea una expresión que permita calcular la **probabilidad** de que en **un día** de operación **lleguen menos de 5** solicitudes de alquiler.\n",
    "\n",
    "**Relacionado:** [[Distribucion de Poisson]] (Menos de $k$ llegadas)\n",
    "\n",
    "\n",
    "$$\n",
    "P(X<k)=\\sum_{i=0}^{k-1}\\frac{(\\lambda t)^{i}e^{-\\lambda t}}{i!}\n",
    "$$\n",
    "$$\n",
    "P(N(24)<5)=\\sum_{i=0}^{4}\\frac{( \\lambda*24)^{i}e^{-\\lambda *24}}{i!}\n",
    "$$\n",
    "\n",
    "\n",
    "$$\n",
    "P\\{N(24)<5\\} =\n",
    "e^{-\\lambda\\cdot 24}\n",
    "\\Bigg[\n",
    "\\frac{(\\lambda\\cdot 24)^0}{0!}+\n",
    "\\frac{(\\lambda\\cdot 24)^1}{1!}+\n",
    "\\frac{(\\lambda\\cdot 24)^2}{2!}+\n",
    "\\frac{(\\lambda\\cdot 24)^3}{3!}+\n",
    "\\frac{(\\lambda\\cdot 24)^4}{4!}\n",
    "\\Bigg].\n",
    "$$\n",
    "\n",
    "## b. Provea una expresión que permita calcular la probabilidad de que el tiempo entre la primera y la segunda solicitud de alquiler sea menor a una hora.\n",
    "\n",
    "**Relacionado:** [[Distribucion Exponencial]] (Funcion de distribucion acumulada)\n",
    "\n",
    "\n",
    "$$\n",
    "P(T\\leq 1)=1-e^{-\\lambda}\n",
    "$$\n",
    "## **c.** Modele este sistema empleando una **cadena de Markov**. Exprese claramente todos los elementos de su modelo. Las **tasas o probabilidades de transición** deben expresarlas de manera general (**forma implícita**).\n",
    "\n",
    "### Parametros\n",
    "- Solicitudes de alquiler segun **Poisson** con tasa $\\lambda$ (por **hora**)\n",
    "- Duracion de un alquiler **exponencial** con **media** $m$ dias\n",
    "$$\n",
    "\\mu=\\frac{1}{m}\\text{ dias}=\\frac{24}{m}\\text{ horas}\n",
    "$$\n",
    "### Variable\n",
    "$$\n",
    "X_{n}:\\text{ Numero de vehiculos alquilados en el tiempo } t\n",
    "$$\n",
    "### Espacio de estado\n",
    "$$\n",
    "S_{x}=\\{0,1,2,3,\\dots,50\\}\n",
    "$$\n",
    "### Matriz generadora\n",
    "- La exponenciales compiten por terminar primero (n=i)\n",
    "$$\n",
    "\\begin{bmatrix}\n",
    "&0&1&2&3&\\dots&50 \\\\\n",
    "0&-\\lambda&\\lambda&0&0&&0 \\\\\n",
    "1&n\\mu&-(n\\mu+\\lambda)&\\lambda&0&&0 \\\\\n",
    "2&0&n\\mu&-(n\\mu+\\lambda)&\\lambda&&0 \\\\\n",
    "3&0&0&n\\mu&\\dots \\\\\n",
    "\\dots \\\\\n",
    "50&\n",
    "\\end{bmatrix}\n",
    "$$\n",
    "\n",
    "$$\n",
    "\\begin{cases}\n",
    "\\lambda&j=i+1,i<50 \\\\\n",
    "n\\mu&j=i-1,j>0,n=i\\\\\n",
    "0&d.l.c\n",
    "\\end{cases}\n",
    "\n",
    "$$\n"
   ]
  },
  {
   "cell_type": "code",
   "execution_count": 10,
   "id": "65bf33d0",
   "metadata": {},
   "outputs": [],
   "source": [
    "# Importar las librerías necesarias \n",
    "import numpy as np  \n",
    "from jmarkov.ctmc import ctmc\n",
    "\n",
    "\n",
    "from scipy.stats import poisson \n",
    "from scipy.stats import expon\n",
    "from scipy.stats import binom"
   ]
  },
  {
   "cell_type": "code",
   "execution_count": 6,
   "id": "573926f9",
   "metadata": {},
   "outputs": [],
   "source": [
    "# Parametros\n",
    "lambda_alquiler =7\n",
    "m = 12\n",
    "N = 50"
   ]
  },
  {
   "cell_type": "markdown",
   "id": "79ad7a88",
   "metadata": {},
   "source": [
    "## a. Provea una expresión que permita calcular la **probabilidad** de que en **un día** de operación **lleguen menos de 5** solicitudes de alquiler."
   ]
  },
  {
   "cell_type": "code",
   "execution_count": 8,
   "id": "72390557",
   "metadata": {},
   "outputs": [
    {
     "name": "stdout",
     "output_type": "stream",
     "text": [
      "Probabilidad de que un auto no sea alquilado en 24 horas: 3.7149636358541743e-66\n"
     ]
    }
   ],
   "source": [
    "probability = poisson.cdf(4, lambda_alquiler*24)\n",
    "print(f\"Probabilidad de que un auto no sea alquilado en 24 horas: {probability}\")"
   ]
  },
  {
   "cell_type": "markdown",
   "id": "a6c74b28",
   "metadata": {},
   "source": [
    "## b. Provea una expresión que permita calcular la probabilidad de que el tiempo entre la primera y la segunda solicitud de alquiler sea menor a una hora."
   ]
  },
  {
   "cell_type": "code",
   "execution_count": 16,
   "id": "22a4eedc",
   "metadata": {},
   "outputs": [
    {
     "name": "stdout",
     "output_type": "stream",
     "text": [
      "Probabilidad de que un auto sea alquilado en la primera hora: 0.9990881180344455\n"
     ]
    }
   ],
   "source": [
    "probability = expon.cdf(1, scale=1/lambda_alquiler)\n",
    "print(f\"Probabilidad de que un auto sea alquilado en la primera hora: {probability}\")"
   ]
  },
  {
   "cell_type": "markdown",
   "id": "c2c68ad6",
   "metadata": {},
   "source": [
    "## c. Modele este sistema empleando una **cadena de Markov**. Exprese claramente todos los elementos de su modelo. Las **tasas o probabilidades de transición** deben expresarlas de manera general (**forma implícita**)."
   ]
  },
  {
   "cell_type": "code",
   "execution_count": 19,
   "id": "9d3a23f4",
   "metadata": {},
   "outputs": [
    {
     "data": {
      "text/plain": [
       "array([[  -7.,    7.,    0., ...,    0.,    0.,    0.],\n",
       "       [   0.,   -7.,    7., ...,    0.,    0.,    0.],\n",
       "       [   0.,    4.,  -11., ...,    0.,    0.,    0.],\n",
       "       ...,\n",
       "       [   0.,    0.,    0., ..., -103.,    7.,    0.],\n",
       "       [   0.,    0.,    0., ...,   98., -105.,    7.],\n",
       "       [   0.,    0.,    0., ...,    0.,  100., -100.]])"
      ]
     },
     "execution_count": 19,
     "metadata": {},
     "output_type": "execute_result"
    }
   ],
   "source": [
    "# Tasa de alquiler exponencial diario\n",
    "mu = (1/m)*24\n",
    "\n",
    "estados = np.array([i for i in range(0,N+1)])\n",
    "matriz_transicion = np.zeros((len(estados), len(estados)))\n",
    "\n",
    "for i in range(len(estados)):\n",
    "    for j in range(len(estados)):\n",
    "        n = 0\n",
    "        if j == i + 1 and i < N:\n",
    "            matriz_transicion[i, j] = lambda_alquiler\n",
    "        elif j == i - 1 and j > 0:\n",
    "            n = i\n",
    "            matriz_transicion[i, j] = n * mu\n",
    "        else:\n",
    "            matriz_transicion[i, j] = 0\n",
    "    matriz_transicion[i, i] = -np.sum(matriz_transicion[i])\n",
    "    \n",
    "np.round(matriz_transicion,4)\n",
    "            "
   ]
  },
  {
   "cell_type": "code",
   "execution_count": 21,
   "id": "676f52c6",
   "metadata": {},
   "outputs": [],
   "source": [
    "cadena = ctmc(matriz_transicion, estados)"
   ]
  }
 ],
 "metadata": {
  "kernelspec": {
   "display_name": "Python 3",
   "language": "python",
   "name": "python3"
  },
  "language_info": {
   "codemirror_mode": {
    "name": "ipython",
    "version": 3
   },
   "file_extension": ".py",
   "mimetype": "text/x-python",
   "name": "python",
   "nbconvert_exporter": "python",
   "pygments_lexer": "ipython3",
   "version": "3.11.4"
  }
 },
 "nbformat": 4,
 "nbformat_minor": 5
}
