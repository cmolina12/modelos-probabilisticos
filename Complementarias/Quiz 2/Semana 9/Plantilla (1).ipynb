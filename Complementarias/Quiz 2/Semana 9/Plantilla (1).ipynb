{
 "cells": [
  {
   "cell_type": "markdown",
   "metadata": {},
   "source": [
    "# Complementaria Semana 9 (Jueves 12:30)"
   ]
  },
  {
   "cell_type": "code",
   "execution_count": 1,
   "metadata": {},
   "outputs": [],
   "source": [
    "import numpy as np\n",
    "import pandas as pd\n",
    "from jmarkov.dtmc import dtmc"
   ]
  },
  {
   "cell_type": "markdown",
   "metadata": {},
   "source": [
    "a) Estime la matriz de transición de probabilidades a partir del archivo $\\texttt{aguila.xlsx}$"
   ]
  },
  {
   "cell_type": "code",
   "execution_count": 2,
   "metadata": {},
   "outputs": [],
   "source": [
    "# Leer el archivo\n",
    "df = pd.read_excel('datos (2).xlsx')"
   ]
  },
  {
   "cell_type": "code",
   "execution_count": 4,
   "metadata": {},
   "outputs": [
    {
     "data": {
      "text/html": [
       "<div>\n",
       "<style scoped>\n",
       "    .dataframe tbody tr th:only-of-type {\n",
       "        vertical-align: middle;\n",
       "    }\n",
       "\n",
       "    .dataframe tbody tr th {\n",
       "        vertical-align: top;\n",
       "    }\n",
       "\n",
       "    .dataframe thead th {\n",
       "        text-align: right;\n",
       "    }\n",
       "</style>\n",
       "<table border=\"1\" class=\"dataframe\">\n",
       "  <thead>\n",
       "    <tr style=\"text-align: right;\">\n",
       "      <th></th>\n",
       "      <th>season</th>\n",
       "      <th>previous_habitat</th>\n",
       "      <th>current_habitat</th>\n",
       "      <th>transition</th>\n",
       "    </tr>\n",
       "  </thead>\n",
       "  <tbody>\n",
       "    <tr>\n",
       "      <th>0</th>\n",
       "      <td>1</td>\n",
       "      <td>Laguna</td>\n",
       "      <td>Laguna</td>\n",
       "      <td>(Laguna, Laguna)</td>\n",
       "    </tr>\n",
       "    <tr>\n",
       "      <th>1</th>\n",
       "      <td>2</td>\n",
       "      <td>Laguna</td>\n",
       "      <td>Pradera</td>\n",
       "      <td>(Laguna, Pradera)</td>\n",
       "    </tr>\n",
       "    <tr>\n",
       "      <th>2</th>\n",
       "      <td>3</td>\n",
       "      <td>Pradera</td>\n",
       "      <td>Laguna</td>\n",
       "      <td>(Pradera, Laguna)</td>\n",
       "    </tr>\n",
       "    <tr>\n",
       "      <th>3</th>\n",
       "      <td>4</td>\n",
       "      <td>Laguna</td>\n",
       "      <td>Laguna</td>\n",
       "      <td>(Laguna, Laguna)</td>\n",
       "    </tr>\n",
       "    <tr>\n",
       "      <th>4</th>\n",
       "      <td>5</td>\n",
       "      <td>Laguna</td>\n",
       "      <td>Pradera</td>\n",
       "      <td>(Laguna, Pradera)</td>\n",
       "    </tr>\n",
       "    <tr>\n",
       "      <th>...</th>\n",
       "      <td>...</td>\n",
       "      <td>...</td>\n",
       "      <td>...</td>\n",
       "      <td>...</td>\n",
       "    </tr>\n",
       "    <tr>\n",
       "      <th>495</th>\n",
       "      <td>496</td>\n",
       "      <td>Pradera</td>\n",
       "      <td>Pradera</td>\n",
       "      <td>(Pradera, Pradera)</td>\n",
       "    </tr>\n",
       "    <tr>\n",
       "      <th>496</th>\n",
       "      <td>497</td>\n",
       "      <td>Pradera</td>\n",
       "      <td>Pradera</td>\n",
       "      <td>(Pradera, Pradera)</td>\n",
       "    </tr>\n",
       "    <tr>\n",
       "      <th>497</th>\n",
       "      <td>498</td>\n",
       "      <td>Pradera</td>\n",
       "      <td>Pradera</td>\n",
       "      <td>(Pradera, Pradera)</td>\n",
       "    </tr>\n",
       "    <tr>\n",
       "      <th>498</th>\n",
       "      <td>499</td>\n",
       "      <td>Pradera</td>\n",
       "      <td>Pradera</td>\n",
       "      <td>(Pradera, Pradera)</td>\n",
       "    </tr>\n",
       "    <tr>\n",
       "      <th>499</th>\n",
       "      <td>500</td>\n",
       "      <td>Pradera</td>\n",
       "      <td>Pradera</td>\n",
       "      <td>(Pradera, Pradera)</td>\n",
       "    </tr>\n",
       "  </tbody>\n",
       "</table>\n",
       "<p>500 rows × 4 columns</p>\n",
       "</div>"
      ],
      "text/plain": [
       "     season previous_habitat current_habitat          transition\n",
       "0         1           Laguna          Laguna    (Laguna, Laguna)\n",
       "1         2           Laguna         Pradera   (Laguna, Pradera)\n",
       "2         3          Pradera          Laguna   (Pradera, Laguna)\n",
       "3         4           Laguna          Laguna    (Laguna, Laguna)\n",
       "4         5           Laguna         Pradera   (Laguna, Pradera)\n",
       "..      ...              ...             ...                 ...\n",
       "495     496          Pradera         Pradera  (Pradera, Pradera)\n",
       "496     497          Pradera         Pradera  (Pradera, Pradera)\n",
       "497     498          Pradera         Pradera  (Pradera, Pradera)\n",
       "498     499          Pradera         Pradera  (Pradera, Pradera)\n",
       "499     500          Pradera         Pradera  (Pradera, Pradera)\n",
       "\n",
       "[500 rows x 4 columns]"
      ]
     },
     "execution_count": 4,
     "metadata": {},
     "output_type": "execute_result"
    }
   ],
   "source": [
    "# Hint: Crear una nueva columna con la pareja estado inicial, estado futuro\n",
    "df['transition'] = list(zip(df['previous_habitat'], df['current_habitat']))\n",
    "unique_transitions = df['transition'].unique()\n",
    "df"
   ]
  },
  {
   "cell_type": "code",
   "execution_count": 6,
   "metadata": {},
   "outputs": [
    {
     "data": {
      "text/plain": [
       "{'Bosque': 129, 'Laguna': 161, 'Pradera': 210}"
      ]
     },
     "execution_count": 6,
     "metadata": {},
     "output_type": "execute_result"
    }
   ],
   "source": [
    "# Estimar probabilidadea\n",
    "state_counts = df.groupby(\"previous_habitat\")[\"season\"].count().to_dict()\n",
    "state_counts"
   ]
  },
  {
   "cell_type": "code",
   "execution_count": 7,
   "metadata": {},
   "outputs": [
    {
     "data": {
      "text/plain": [
       "{('Bosque', 'Bosque'): 80,\n",
       " ('Bosque', 'Laguna'): 18,\n",
       " ('Bosque', 'Pradera'): 31,\n",
       " ('Laguna', 'Bosque'): 10,\n",
       " ('Laguna', 'Laguna'): 88,\n",
       " ('Laguna', 'Pradera'): 63,\n",
       " ('Pradera', 'Bosque'): 39,\n",
       " ('Pradera', 'Laguna'): 54,\n",
       " ('Pradera', 'Pradera'): 117}"
      ]
     },
     "execution_count": 7,
     "metadata": {},
     "output_type": "execute_result"
    }
   ],
   "source": [
    "transition_counts = df.groupby(\"transition\")[\"season\"].count().to_dict()\n",
    "transition_counts"
   ]
  },
  {
   "cell_type": "code",
   "execution_count": 8,
   "metadata": {},
   "outputs": [
    {
     "data": {
      "text/plain": [
       "{('Bosque', 'Bosque'): 0.6201550387596899,\n",
       " ('Bosque', 'Laguna'): 0.13953488372093023,\n",
       " ('Bosque', 'Pradera'): 0.24031007751937986,\n",
       " ('Laguna', 'Bosque'): 0.062111801242236024,\n",
       " ('Laguna', 'Laguna'): 0.546583850931677,\n",
       " ('Laguna', 'Pradera'): 0.391304347826087,\n",
       " ('Pradera', 'Bosque'): 0.18571428571428572,\n",
       " ('Pradera', 'Laguna'): 0.2571428571428571,\n",
       " ('Pradera', 'Pradera'): 0.5571428571428572}"
      ]
     },
     "execution_count": 8,
     "metadata": {},
     "output_type": "execute_result"
    }
   ],
   "source": [
    "empirical_probs = {}\n",
    "\n",
    "for transition, count in transition_counts.items():\n",
    "    empirical_probs[transition] = count / state_counts[transition[0]]\n",
    "    \n",
    "empirical_probs"
   ]
  },
  {
   "cell_type": "markdown",
   "metadata": {},
   "source": [
    "b) Matriz de transición y cadena con la libreria jmarkov:"
   ]
  },
  {
   "cell_type": "code",
   "execution_count": 9,
   "metadata": {},
   "outputs": [],
   "source": [
    "estados = np.array(['Bosque','Pradera','Laguna'])\n",
    "\n",
    "matrizP = np.zeros((len(estados),len(estados)))\n",
    "\n",
    "for fila, i in enumerate(estados):\n",
    "    for columna, j in enumerate(estados):\n",
    "        matrizP[fila,columna] = empirical_probs[i,j]\n",
    "\n",
    "cadena = dtmc(matrizP)"
   ]
  },
  {
   "cell_type": "markdown",
   "metadata": {},
   "source": [
    "c) Dentro de tres temporadas está programado un mantenimiento general en el Bosque. No obstante, si el ave se encuentra en el Bosque en esa temporada, el mantenimiento deberá cancelarse.\n",
    " Proporcione una expresión para calcular la probabilidad de que, en tres temporadas, se deba cancelar el mantenimiento, dado que en la temporada actual el ave se encuentra en la Laguna."
   ]
  },
  {
   "cell_type": "code",
   "execution_count": 28,
   "metadata": {},
   "outputs": [
    {
     "name": "stdout",
     "output_type": "stream",
     "text": [
      "La probabilidad de estar en 'Bosque' en la temporada 3, partiendo de 'Laguna' es: 0.1983\n"
     ]
    }
   ],
   "source": [
    "# transient probabilities\n",
    "\n",
    "alpha = (estados==\"Laguna\").astype(float)\n",
    "alpha\n",
    "\n",
    "probabilidades_transitorias = cadena.transient_probabilities(n=3, alpha=alpha)\n",
    "respuesta_c = probabilidades_transitorias[np.where(estados==\"Bosque\")[0][0]]\n",
    "\n",
    "\n",
    "#respuesta_c = float(respuesta_c)\n",
    "print(f\"La probabilidad de estar en 'Bosque' en la temporada 3, partiendo de 'Laguna' es: {round(respuesta_c, 4)}\")"
   ]
  },
  {
   "cell_type": "markdown",
   "metadata": {},
   "source": [
    "d) Para el Parque es necesario conocer cuánto tiempo en promedio durará cada estado durante los próximos 3 años. Cada año tiene 4 temporadas. Actualmente se está en la Laguna.\n"
   ]
  },
  {
   "cell_type": "code",
   "execution_count": 45,
   "metadata": {},
   "outputs": [
    {
     "name": "stdout",
     "output_type": "stream",
     "text": [
      "El tiempo de ocupacion empezando de Laguna hasta Bosque es: 2.670656438348191\n",
      "El tiempo de ocupacion empezando de Laguna hasta Pradera es: 5.108593068748927\n",
      "El tiempo de ocupacion empezando de Laguna hasta Laguna es: 5.220750492902883\n",
      "\n",
      "La proporción de tiempo en Bosque es: 0.2054\n",
      "La proporción de tiempo en Pradera es: 0.3930\n",
      "La proporción de tiempo en Laguna es: 0.4016\n"
     ]
    }
   ],
   "source": [
    "# occupation time\n",
    "\n",
    "tiempos_ocupacion = cadena.occupation_time(3*4)\n",
    "\n",
    "tiempo_ocupacion_laguna = tiempos_ocupacion[np.where(estados==\"Laguna\")[0][0]]\n",
    "\n",
    "tiempo_ocupacion_laguna\n",
    "\n",
    "suma = 0\n",
    "\n",
    "for i, estado in enumerate(estados):\n",
    "    print(f\"El tiempo de ocupacion empezando de Laguna hasta {estado} es: {tiempo_ocupacion_laguna[i]}\")\n",
    "    suma += tiempo_ocupacion_laguna[i]\n",
    "\n",
    "print(\"\")\n",
    "for i, estado in enumerate(estados):\n",
    "    proporción = tiempo_ocupacion_laguna[i] / suma\n",
    "    print(f\"La proporción de tiempo en {estado} es: {proporción:.4f}\")\n",
    "    \n",
    "\n"
   ]
  },
  {
   "cell_type": "markdown",
   "metadata": {},
   "source": [
    "e) ¿Cuántas temporadas va a tardar el águila en estar por primera vez en la Pradera dado que actualmente está en la Laguna?"
   ]
  },
  {
   "cell_type": "code",
   "execution_count": 54,
   "metadata": {},
   "outputs": [
    {
     "name": "stdout",
     "output_type": "stream",
     "text": [
      "Indice: 0, Estado: Bosque\n",
      "Indice: 1, Estado: Pradera\n",
      "Indice: 2, Estado: Laguna\n",
      "\n",
      "El tiempo de primera pasada de Laguna a Pradera es: 2.7021\n"
     ]
    }
   ],
   "source": [
    "# Tiempo de primera pasada\n",
    "\n",
    "for index, estadoo in enumerate(estados):\n",
    "    print(f\"Indice: {index}, Estado: {estadoo}\")\n",
    "\n",
    "tiempo_primera_pasada = cadena.first_passage_time(1)\n",
    "\n",
    "tiempo_pp_laguna=tiempo_primera_pasada[1][0]\n",
    "\n",
    "print(f\"\\nEl tiempo de primera pasada de Laguna a Pradera es: {round(tiempo_pp_laguna, 4)}\")\n"
   ]
  }
 ],
 "metadata": {
  "kernelspec": {
   "display_name": "Python 3",
   "language": "python",
   "name": "python3"
  },
  "language_info": {
   "codemirror_mode": {
    "name": "ipython",
    "version": 3
   },
   "file_extension": ".py",
   "mimetype": "text/x-python",
   "name": "python",
   "nbconvert_exporter": "python",
   "pygments_lexer": "ipython3",
   "version": "3.11.4"
  }
 },
 "nbformat": 4,
 "nbformat_minor": 2
}
