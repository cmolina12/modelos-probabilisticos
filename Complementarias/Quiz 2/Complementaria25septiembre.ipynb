{
 "cells": [
  {
   "cell_type": "code",
   "execution_count": 1,
   "id": "5fbf3de7",
   "metadata": {},
   "outputs": [],
   "source": [
    "import pandas as pd"
   ]
  },
  {
   "cell_type": "code",
   "execution_count": 2,
   "id": "69518465",
   "metadata": {},
   "outputs": [
    {
     "data": {
      "text/html": [
       "<div>\n",
       "<style scoped>\n",
       "    .dataframe tbody tr th:only-of-type {\n",
       "        vertical-align: middle;\n",
       "    }\n",
       "\n",
       "    .dataframe tbody tr th {\n",
       "        vertical-align: top;\n",
       "    }\n",
       "\n",
       "    .dataframe thead th {\n",
       "        text-align: right;\n",
       "    }\n",
       "</style>\n",
       "<table border=\"1\" class=\"dataframe\">\n",
       "  <thead>\n",
       "    <tr style=\"text-align: right;\">\n",
       "      <th></th>\n",
       "      <th>id_rollo</th>\n",
       "      <th>id_lote</th>\n",
       "      <th>tiempo_entre_llegadas</th>\n",
       "      <th>peso</th>\n",
       "      <th>longitud</th>\n",
       "    </tr>\n",
       "  </thead>\n",
       "  <tbody>\n",
       "    <tr>\n",
       "      <th>0</th>\n",
       "      <td>1</td>\n",
       "      <td>1</td>\n",
       "      <td>7.580508</td>\n",
       "      <td>503.556137</td>\n",
       "      <td>98.173125</td>\n",
       "    </tr>\n",
       "    <tr>\n",
       "      <th>1</th>\n",
       "      <td>2</td>\n",
       "      <td>1</td>\n",
       "      <td>7.807195</td>\n",
       "      <td>479.862020</td>\n",
       "      <td>107.402817</td>\n",
       "    </tr>\n",
       "    <tr>\n",
       "      <th>2</th>\n",
       "      <td>3</td>\n",
       "      <td>1</td>\n",
       "      <td>9.484788</td>\n",
       "      <td>492.965665</td>\n",
       "      <td>103.301277</td>\n",
       "    </tr>\n",
       "    <tr>\n",
       "      <th>3</th>\n",
       "      <td>4</td>\n",
       "      <td>1</td>\n",
       "      <td>16.371784</td>\n",
       "      <td>498.011138</td>\n",
       "      <td>98.078701</td>\n",
       "    </tr>\n",
       "    <tr>\n",
       "      <th>4</th>\n",
       "      <td>5</td>\n",
       "      <td>1</td>\n",
       "      <td>36.504883</td>\n",
       "      <td>511.179924</td>\n",
       "      <td>100.827708</td>\n",
       "    </tr>\n",
       "    <tr>\n",
       "      <th>...</th>\n",
       "      <td>...</td>\n",
       "      <td>...</td>\n",
       "      <td>...</td>\n",
       "      <td>...</td>\n",
       "      <td>...</td>\n",
       "    </tr>\n",
       "    <tr>\n",
       "      <th>995</th>\n",
       "      <td>996</td>\n",
       "      <td>10</td>\n",
       "      <td>28.086941</td>\n",
       "      <td>434.101150</td>\n",
       "      <td>93.130072</td>\n",
       "    </tr>\n",
       "    <tr>\n",
       "      <th>996</th>\n",
       "      <td>997</td>\n",
       "      <td>10</td>\n",
       "      <td>47.409307</td>\n",
       "      <td>508.062992</td>\n",
       "      <td>108.060990</td>\n",
       "    </tr>\n",
       "    <tr>\n",
       "      <th>997</th>\n",
       "      <td>998</td>\n",
       "      <td>10</td>\n",
       "      <td>18.352347</td>\n",
       "      <td>503.701301</td>\n",
       "      <td>96.037015</td>\n",
       "    </tr>\n",
       "    <tr>\n",
       "      <th>998</th>\n",
       "      <td>999</td>\n",
       "      <td>10</td>\n",
       "      <td>27.865058</td>\n",
       "      <td>511.799230</td>\n",
       "      <td>100.032015</td>\n",
       "    </tr>\n",
       "    <tr>\n",
       "      <th>999</th>\n",
       "      <td>1000</td>\n",
       "      <td>10</td>\n",
       "      <td>1.069744</td>\n",
       "      <td>469.260444</td>\n",
       "      <td>95.540560</td>\n",
       "    </tr>\n",
       "  </tbody>\n",
       "</table>\n",
       "<p>1000 rows × 5 columns</p>\n",
       "</div>"
      ],
      "text/plain": [
       "     id_rollo  id_lote  tiempo_entre_llegadas        peso    longitud\n",
       "0           1        1               7.580508  503.556137   98.173125\n",
       "1           2        1               7.807195  479.862020  107.402817\n",
       "2           3        1               9.484788  492.965665  103.301277\n",
       "3           4        1              16.371784  498.011138   98.078701\n",
       "4           5        1              36.504883  511.179924  100.827708\n",
       "..        ...      ...                    ...         ...         ...\n",
       "995       996       10              28.086941  434.101150   93.130072\n",
       "996       997       10              47.409307  508.062992  108.060990\n",
       "997       998       10              18.352347  503.701301   96.037015\n",
       "998       999       10              27.865058  511.799230  100.032015\n",
       "999      1000       10               1.069744  469.260444   95.540560\n",
       "\n",
       "[1000 rows x 5 columns]"
      ]
     },
     "execution_count": 2,
     "metadata": {},
     "output_type": "execute_result"
    }
   ],
   "source": [
    "df = pd.read_excel('fabrica_papel.xlsx', sheet_name='Sheet1')\n",
    "df"
   ]
  },
  {
   "cell_type": "code",
   "execution_count": 3,
   "id": "786cc7be",
   "metadata": {},
   "outputs": [
    {
     "data": {
      "text/plain": [
       "<Axes: >"
      ]
     },
     "execution_count": 3,
     "metadata": {},
     "output_type": "execute_result"
    },
    {
     "data": {
      "image/png": "[encoded data removed]",
      "text/plain": [
       "<Figure size 640x480 with 1 Axes>"
      ]
     },
     "metadata": {},
     "output_type": "display_data"
    }
   ],
   "source": [
    "df[\"tiempo_entre_llegadas\"].hist()"
   ]
  },
  {
   "cell_type": "code",
   "execution_count": 5,
   "id": "127bb0fa",
   "metadata": {},
   "outputs": [
    {
     "data": {
      "text/plain": [
       "np.float64(0.051054383107087965)"
      ]
     },
     "execution_count": 5,
     "metadata": {},
     "output_type": "execute_result"
    }
   ],
   "source": [
    "media = df[\"tiempo_entre_llegadas\"].mean()\n",
    "lambda_estimada = 1/media\n",
    "\n",
    "lambda_estimada"
   ]
  },
  {
   "cell_type": "code",
   "execution_count": 7,
   "id": "10b059e7",
   "metadata": {},
   "outputs": [
    {
     "data": {
      "text/plain": [
       "36"
      ]
     },
     "execution_count": 7,
     "metadata": {},
     "output_type": "execute_result"
    }
   ],
   "source": [
    "estados = []\n",
    "\n",
    "for i in range(4):\n",
    "    for j in range(3):\n",
    "        for k in range(3):\n",
    "            estados.append((i,j,k))\n",
    "            \n",
    "estados\n",
    "len(estados)"
   ]
  },
  {
   "cell_type": "code",
   "execution_count": null,
   "id": "65fa5339",
   "metadata": {},
   "outputs": [],
   "source": []
  }
 ],
 "metadata": {
  "kernelspec": {
   "display_name": ".venv",
   "language": "python",
   "name": "python3"
  },
  "language_info": {
   "codemirror_mode": {
    "name": "ipython",
    "version": 3
   },
   "file_extension": ".py",
   "mimetype": "text/x-python",
   "name": "python",
   "nbconvert_exporter": "python",
   "pygments_lexer": "ipython3",
   "version": "3.11.4"
  }
 },
 "nbformat": 4,
 "nbformat_minor": 5
}
