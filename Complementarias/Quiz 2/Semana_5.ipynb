{
 "cells": [
  {
   "cell_type": "markdown",
   "id": "4bf6dc96f7b32a85",
   "metadata": {},
   "source": [
    "# Modelamiento del sistema\n",
    "\n",
    "* **Temporalidad:** Discreta (observaciones diarias).\n",
    "\n",
    "* **Demanda:**\n",
    "  Sea $D$ la demanda diaria del medicamento.\n",
    "\n",
    "  $$\n",
    "  D \\sim \\text{Poisson}(\\lambda = 3)\n",
    "  $$\n",
    "\n",
    "  $$\n",
    "  P(D = k) = \\frac{3^k e^{-3}}{k!}, \\quad k = 0,1,2,\\dots\n",
    "  $$\n",
    "\n",
    "  $$\n",
    "  P(D \\geq k) = \\sum_{r=k}^{\\infty} \\frac{3^r e^{-3}}{r!}\n",
    "  $$\n",
    "\n",
    "* **Variable de estado:**\n",
    "\n",
    "  $$\n",
    "  X_n = \\text{Número de unidades del medicamento disponibles al inicio del día } n\n",
    "  $$\n",
    "\n",
    "* **Espacio de estados:**\n",
    "\n",
    "  $$\n",
    "  S_X = \\{0,1,2,3,4,5\\}\n",
    "  $$\n",
    "\n",
    "* **Colaboración hospitalaria:**\n",
    "  Si al final del día el inventario queda en **0**, la farmacia entra en cuarentena y el inventario del día siguiente depende de la colaboración de hospitales.\n",
    "\n",
    "  $$\n",
    "  Y \\sim \\text{Binomial}(n=5, p=0.07)\n",
    "  $$\n",
    "\n",
    "  $$\n",
    "  P(Y = k) = \\binom{5}{k}(0.07)^k (0.93)^{5-k}, \\quad k=0,1,\\dots,5\n",
    "  $$\n",
    "\n",
    "* **Política de transición:**\n",
    "\n",
    "$$\n",
    "p_{ij} =\n",
    "\\begin{cases}\n",
    "\\mathbb{P}(D = i - j), & i \\geq 2,\\ j \\neq 0 \\\\\n",
    "\\mathbb{P}(D \\geq i), & i \\geq 2,\\ j = 0 \\\\\n",
    "\\mathbb{P}(D = 5 - j), & 1 \\leq i < 2,\\ j \\neq 0 \\\\\n",
    "\\mathbb{P}(D \\geq 5), & 1 \\leq i < 2,\\ j = 0 \\\\\n",
    "\\mathbb{P}(Y = j), & i = 0,\\ j \\in \\{0,1,\\dots,5\\} \\\\\n",
    "0, & \\text{d.l.c.}\n",
    "\\end{cases}\n",
    "$$\n",
    "\n",
    "\n"
   ]
  },
  {
   "cell_type": "code",
   "execution_count": null,
   "id": "82768bca1673a54a",
   "metadata": {
    "ExecuteTime": {
     "end_time": "2025-09-08T01:12:33.137097Z",
     "start_time": "2025-09-08T01:12:33.130416Z"
    },
    "collapsed": true
   },
   "outputs": [
    {
     "ename": "",
     "evalue": "",
     "output_type": "error",
     "traceback": [
      "\u001b[1;31mRunning cells with '.venv (Python 3.11.4)' requires the ipykernel package.\n",
      "\u001b[1;31mInstall 'ipykernel' into the Python environment. \n",
      "\u001b[1;31mCommand: '\"/Users/macbookairm1/Documents/Universidad/Septimo Semestre/Modelos/Codigo/.venv/bin/python\" -m pip install ipykernel -U --force-reinstall'"
     ]
    }
   ],
   "source": [
    "import numpy as np\n",
    "from scipy.stats import poisson, binom\n",
    "from jmarkov.dtmc import dtmc"
   ]
  },
  {
   "cell_type": "code",
   "execution_count": 16,
   "id": "d692fe54fb8bffbb",
   "metadata": {
    "ExecuteTime": {
     "end_time": "2025-09-08T01:14:46.003151Z",
     "start_time": "2025-09-08T01:14:46.000287Z"
    }
   },
   "outputs": [],
   "source": [
    "# Parametros del problema\n",
    "lmbda = 3 \n",
    "n = 5\n",
    "p = 0.07\n",
    "umbral = 2"
   ]
  },
  {
   "cell_type": "code",
   "execution_count": null,
   "id": "1c02cd9cfcc64502",
   "metadata": {
    "ExecuteTime": {
     "end_time": "2025-09-08T01:14:47.551706Z",
     "start_time": "2025-09-08T01:14:47.548095Z"
    }
   },
   "outputs": [],
   "source": [
    "# Espacio de estados\n",
    "estados = np.array([i for i in range(n+1)])\n",
    "\n",
    "# Matriz de transicion\n",
    "matriz = np.zeros((len(estados), len(estados)))"
   ]
  },
  {
   "cell_type": "code",
   "execution_count": 18,
   "id": "787499b73448916",
   "metadata": {
    "ExecuteTime": {
     "end_time": "2025-09-08T01:14:48.630699Z",
     "start_time": "2025-09-08T01:14:48.618485Z"
    }
   },
   "outputs": [
    {
     "data": {
      "text/plain": [
       "array([[6.95688369e-01, 2.61818204e-01, 3.94134930e-02, 2.96660700e-03,\n",
       "        1.11646500e-04, 1.68070000e-06],\n",
       "       [1.84736755e-01, 1.68031356e-01, 2.24041808e-01, 2.24041808e-01,\n",
       "        1.49361205e-01, 4.97870684e-02],\n",
       "       [8.00851727e-01, 1.49361205e-01, 4.97870684e-02, 0.00000000e+00,\n",
       "        0.00000000e+00, 0.00000000e+00],\n",
       "       [5.76809919e-01, 2.24041808e-01, 1.49361205e-01, 4.97870684e-02,\n",
       "        0.00000000e+00, 0.00000000e+00],\n",
       "       [3.52768111e-01, 2.24041808e-01, 2.24041808e-01, 1.49361205e-01,\n",
       "        4.97870684e-02, 0.00000000e+00],\n",
       "       [1.84736755e-01, 1.68031356e-01, 2.24041808e-01, 2.24041808e-01,\n",
       "        1.49361205e-01, 4.97870684e-02]])"
      ]
     },
     "execution_count": 18,
     "metadata": {},
     "output_type": "execute_result"
    }
   ],
   "source": [
    "for i in range(len(estados)):\n",
    "    for j in range(len(estados)):\n",
    "        \n",
    "        if i >= umbral and j != 0:\n",
    "            matriz[i,j] = poisson.pmf(i-j, lmbda)\n",
    "        elif i >= umbral and j == 0:\n",
    "            matriz[i,j] = 1 - poisson.cdf(i-1, lmbda)\n",
    "        elif 1 <= i < umbral and j != 0:\n",
    "            matriz[i,j] = poisson.pmf(5-j, lmbda)\n",
    "        elif 1 <= i < umbral and j == 0:\n",
    "            matriz[i,j] = 1 - poisson.cdf(5-1, lmbda)\n",
    "        elif i == 0 and j in estados:\n",
    "            matriz[i,j] = binom.pmf(j, n, p)\n",
    "        else:\n",
    "            matriz[i,j] = 0\n",
    "            \n",
    "matriz"
   ]
  },
  {
   "cell_type": "code",
   "execution_count": 19,
   "id": "c3bc33f74695de54",
   "metadata": {
    "ExecuteTime": {
     "end_time": "2025-09-08T01:14:51.764240Z",
     "start_time": "2025-09-08T01:14:51.761880Z"
    }
   },
   "outputs": [],
   "source": [
    "cadena = dtmc(matriz, estados)"
   ]
  },
  {
   "cell_type": "markdown",
   "id": "1501f355bb63dec2",
   "metadata": {},
   "source": [
    "### a. **¿Cuál es la probabilidad de que el inventario sea igual a 5 dentro de 2 días, si hoy hay 1 unidad?**\n",
    "\n",
    "Queremos calcular:\n",
    "\n",
    "$$\n",
    "P(X_2 = 5 \\mid X_0 = 1)\n",
    "$$\n",
    "\n",
    "Esto corresponde a una **transición de dos pasos**, es decir:\n",
    "\n",
    "$$\n",
    "P(X_2 = 5 \\mid X_0 = 1) = \\big[P^2\\big]_{1,5}\n",
    "$$\n",
    "\n"
   ]
  },
  {
   "cell_type": "code",
   "execution_count": 20,
   "id": "be48dc767cf0a5e5",
   "metadata": {
    "ExecuteTime": {
     "end_time": "2025-09-08T01:14:53.232937Z",
     "start_time": "2025-09-08T01:14:53.228993Z"
    }
   },
   "outputs": [
    {
     "name": "stdout",
     "output_type": "stream",
     "text": [
      "La probabilidad de que al cabo de 2 dias haya 5 unidades en inventario es 0.0108\n"
     ]
    }
   ],
   "source": [
    "alpha = np.array([0,1,0,0,0,0]) # Hoy hay 1 unidad en inventario\n",
    "\n",
    "probabilidades = cadena.transient_probabilities(n=2, alpha=alpha) # 2 dias\n",
    "\n",
    "probabilidad = round(probabilidades[5],4)\n",
    "print(f\"La probabilidad de que al cabo de 2 dias haya 5 unidades en inventario es {probabilidad}\")"
   ]
  },
  {
   "cell_type": "markdown",
   "id": "8787b2f70ed487dc",
   "metadata": {},
   "source": [
    "### b. **¿Qué pasaría si el umbral de reposición cambiara de 2 a 3?**\n",
    "¿Se reduciría el riesgo de quiebre?"
   ]
  },
  {
   "cell_type": "markdown",
   "id": "5f33b35a056bd0c8",
   "metadata": {},
   "source": [
    "* **Nueva Política de transición:**\n",
    "\n",
    "$$\n",
    "p_{ij} =\n",
    "\\begin{cases}\n",
    "\\mathbb{P}(D = i - j), & i \\geq 3,\\ j \\neq 0 \\\\\n",
    "\\mathbb{P}(D \\geq i), & i \\geq 3,\\ j = 0 \\\\\n",
    "\\mathbb{P}(D = 5 - j), & 1 \\leq i < 3,\\ j \\neq 0 \\\\\n",
    "\\mathbb{P}(D \\geq 5), & 1 \\leq i < 3,\\ j = 0 \\\\\n",
    "\\mathbb{P}(Y = j), & i = 0,\\ j \\in \\{0,1,\\dots,5\\} \\\\\n",
    "0, & \\text{d.l.c.}\n",
    "\\end{cases}\n",
    "$$\n"
   ]
  },
  {
   "cell_type": "code",
   "execution_count": 21,
   "id": "9f1798de062e00a6",
   "metadata": {
    "ExecuteTime": {
     "end_time": "2025-09-08T01:14:55.400035Z",
     "start_time": "2025-09-08T01:14:55.393940Z"
    }
   },
   "outputs": [
    {
     "data": {
      "text/plain": [
       "array([[6.95688369e-01, 2.61818204e-01, 3.94134930e-02, 2.96660700e-03,\n",
       "        1.11646500e-04, 1.68070000e-06],\n",
       "       [1.84736755e-01, 1.68031356e-01, 2.24041808e-01, 2.24041808e-01,\n",
       "        1.49361205e-01, 4.97870684e-02],\n",
       "       [1.84736755e-01, 1.68031356e-01, 2.24041808e-01, 2.24041808e-01,\n",
       "        1.49361205e-01, 4.97870684e-02],\n",
       "       [5.76809919e-01, 2.24041808e-01, 1.49361205e-01, 4.97870684e-02,\n",
       "        0.00000000e+00, 0.00000000e+00],\n",
       "       [3.52768111e-01, 2.24041808e-01, 2.24041808e-01, 1.49361205e-01,\n",
       "        4.97870684e-02, 0.00000000e+00],\n",
       "       [1.84736755e-01, 1.68031356e-01, 2.24041808e-01, 2.24041808e-01,\n",
       "        1.49361205e-01, 4.97870684e-02]])"
      ]
     },
     "execution_count": 21,
     "metadata": {},
     "output_type": "execute_result"
    }
   ],
   "source": [
    "steady_state_original = cadena.steady_state()\n",
    "riesgo_quiebre_original = round(steady_state_original[0],4) \n",
    "\n",
    "umbral = 3\n",
    "\n",
    "for i in range(len(estados)):\n",
    "    for j in range(len(estados)):\n",
    "        \n",
    "        if i >= umbral and j != 0:\n",
    "            matriz[i,j] = poisson.pmf(i-j, lmbda)\n",
    "        elif i >= umbral and j == 0:\n",
    "            matriz[i,j] = 1 - poisson.cdf(i-1, lmbda)\n",
    "        elif 1 <= i < umbral and j != 0:\n",
    "            matriz[i,j] = poisson.pmf(5-j, lmbda)\n",
    "        elif 1 <= i < umbral and j == 0:\n",
    "            matriz[i,j] = 1 - poisson.cdf(5-1, lmbda)\n",
    "        elif i == 0 and j in estados:\n",
    "            matriz[i,j] = binom.pmf(j, n, p)\n",
    "        else:\n",
    "            matriz[i,j] = 0    \n",
    "matriz"
   ]
  },
  {
   "cell_type": "code",
   "execution_count": null,
   "id": "cd00157d3dc5fbe4",
   "metadata": {
    "ExecuteTime": {
     "end_time": "2025-09-08T01:14:56.855191Z",
     "start_time": "2025-09-08T01:14:56.851008Z"
    }
   },
   "outputs": [
    {
     "name": "stdout",
     "output_type": "stream",
     "text": [
      "Disminuye el riesgo de quiebre de 0.5648 a 0.4759\n"
     ]
    }
   ],
   "source": [
    "cadena = dtmc(matriz, estados)\n",
    "steady_state_nuevo = cadena.steady_state()  \n",
    "riesgo_quiebre_nuevo = round(steady_state_nuevo[0],4)\n",
    "\n",
    "if riesgo_quiebre_nuevo < riesgo_quiebre_original:\n",
    "    print(f\"Disminuye el riesgo de quiebre de {riesgo_quiebre_original} a {riesgo_quiebre_nuevo}\")\n",
    "else:\n",
    "    print(\"No disminuye el riesgo de quiebre\")    "
   ]
  },
  {
   "cell_type": "markdown",
   "id": "c4582b2950072aa9",
   "metadata": {},
   "source": [
    "### c. **¿Cuánto impacta la probabilidad de colaboración hospitalaria ($p = 0.07$) en la confiabilidad del sistema?**\n",
    "¿Cómo cambiarían las probabilidades si esta subiera a $p = 0.2$?"
   ]
  },
  {
   "cell_type": "code",
   "execution_count": 23,
   "id": "d4830eb239934724",
   "metadata": {
    "ExecuteTime": {
     "end_time": "2025-09-08T01:24:58.127194Z",
     "start_time": "2025-09-08T01:24:58.089423Z"
    }
   },
   "outputs": [
    {
     "name": "stdout",
     "output_type": "stream",
     "text": [
      "La probabilidad de tener inventario despues de un dia con p=0.07 es 0.3043\n",
      "La probabilidad de tener inventario despues de un dia con p=0.2 es 0.6723\n"
     ]
    }
   ],
   "source": [
    "p = 0.2\n",
    "\n",
    "matriz_nueva = np.zeros((len(estados), len(estados)))\n",
    "\n",
    "\n",
    "for i in range(len(estados)):\n",
    "    for j in range(len(estados)):\n",
    "        \n",
    "        if i >= umbral and j != 0:\n",
    "            matriz_nueva[i,j] = poisson.pmf(i-j, lmbda)\n",
    "        elif i >= umbral and j == 0:\n",
    "            matriz_nueva[i,j] = 1 - poisson.cdf(i-1, lmbda)\n",
    "        elif 1 <= i < umbral and j != 0:\n",
    "            matriz_nueva[i,j] = poisson.pmf(5-j, lmbda)\n",
    "        elif 1 <= i < umbral and j == 0:\n",
    "            matriz_nueva[i,j] = 1 - poisson.cdf(5-1, lmbda)\n",
    "        elif i == 0 and j in estados:\n",
    "            matriz_nueva[i,j] = binom.pmf(j, n, p)\n",
    "        else:\n",
    "            matriz_nueva[i,j] = 0    \n",
    "matriz_nueva\n",
    "\n",
    "cadena_nueva = dtmc(matriz_nueva, estados)\n",
    "\n",
    "# Probabilidad de tener inventario despues de un dia para cada una de las matrices\n",
    "\n",
    "alpha = np.array([1,0,0,0,0,0]) # Hoy hay 0 unidades en inventario\n",
    "\n",
    "probabilidades_nueva = cadena_nueva.transient_probabilities(n=1, alpha=alpha) # 1 dia\n",
    "\n",
    "probabilidades_vieja = cadena.transient_probabilities(n=1, alpha=alpha) # 1 dia\n",
    "\n",
    "print(f\"La probabilidad de tener inventario despues de un dia con p=0.07 es {round(1-probabilidades_vieja[0],4)}\")\n",
    "print(f\"La probabilidad de tener inventario despues de un dia con p=0.2 es {round(1-probabilidades_nueva[0],4)}\")\n"
   ]
  }
 ],
 "metadata": {
  "kernelspec": {
   "display_name": "Python 3",
   "language": "python",
   "name": "python3"
  },
  "language_info": {
   "codemirror_mode": {
    "name": "ipython",
    "version": 3
   },
   "file_extension": ".py",
   "mimetype": "text/x-python",
   "name": "python",
   "nbconvert_exporter": "python",
   "pygments_lexer": "ipython3",
   "version": "3.11.4"
  }
 },
 "nbformat": 4,
 "nbformat_minor": 5
}
