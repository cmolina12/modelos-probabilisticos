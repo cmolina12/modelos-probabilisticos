{
 "cells": [
  {
   "cell_type": "markdown",
   "id": "0d881a1a",
   "metadata": {},
   "source": [
    "# Ejercicio 1 - Maquinas\n",
    "## Enunciado\n",
    " Una m´aquina consta de 4 componentes en serie, es decir, todos los componentes deben estar en condiciones de funcionamiento para que la m´aquina sea funcional. Cuando la m´aquina est´a funcional al comienzo del d´ıa n , cada componente tiene una probabilidad de 0,02 de fallar al comienzo del d´ıa siguiente, independientemente de los otros componentes (M´as de un componente puede fallar el mismo d´ıa). Cuando la m´aquina falla, una sola persona de reparaci´on repara los componentes fallados uno por uno, tard´andose exactamente un d´ıa en reparar un componente fallado. Cuando todos los componentes fallados son reparados, la m´aquina vuelve a ser funcional y se comporta como antes. Tenga en cuenta que cuando la m´aquina est´a fuera de servicio, los componentes que funcionan no fallan. Con base en la situaci´on descrita anteriormente, formule una cadena de Markov definiendo claramente variables de estado, espacio de estado y matriz de transici´on o generadora, para esta ´ultima por favor utilice la forma expl´ıcita.\n",
    "\n",
    "**Relacionado:** [[Distribucion de Bernoulli y Binomial]]\n",
    "## Parametros\n",
    "- **Temporalidad:** CMTD\n",
    "-  **Supuestos:** No memoria, Homogeneidad\n",
    "## Variable de estado\n",
    "$$\n",
    "X_{n}:\\text{ Numero de componentes que fallan al comienzo del dia }n\n",
    "$$\n",
    "\n",
    "## **Espacio de estados:** \n",
    "$$S_{x}=\\{0,1,2,3,4\\}$$\n",
    "## **Matriz de probabilidades**\n",
    "\n",
    "**Probabilidad de falla:** 0.02\n",
    "**Probabilidad de funcional:** 0.98\n",
    "\n",
    "**Matriz de transición:**\n",
    "\n",
    "$$\n",
    "\\begin{bmatrix}\n",
    "&0&1&2&3&4 \\\\\n",
    "0&B(4,0)&B(4,1)&B(4,2)&B(4,3)&B(4,4) \\\\\n",
    "1&1&0&0&0&0\\\\\n",
    "2&0&1&0&0&0 \\\\\n",
    "3&0&0&1&0&0 \\\\\n",
    "4&0&0&0&1&0\n",
    "\\end{bmatrix}\n",
    "$$\n",
    "\n",
    "los arreglos no son binomiales, las fallas si. SI O SI ME VA A ARREGLAR UNO.\n",
    "\n",
    "$$\n",
    "P_{i\\implies j}=\\begin{cases}\n",
    "b_{n,k,p}&j=i+k,i=0,j=k \\\\\n",
    "1&j=i-1,i\\neq 0 \\\\\n",
    "0&d.l.c\n",
    "\\end{cases}\n",
    "$$\n"
   ]
  },
  {
   "cell_type": "code",
   "execution_count": 4,
   "id": "a1b6d18b",
   "metadata": {},
   "outputs": [],
   "source": [
    "import numpy as np\n",
    "from jmarkov.dtmc import dtmc\n",
    "from scipy.stats import binom"
   ]
  },
  {
   "cell_type": "code",
   "execution_count": 19,
   "id": "4ca9d309",
   "metadata": {},
   "outputs": [
    {
     "name": "stdout",
     "output_type": "stream",
     "text": [
      "[[0.9224 0.0753 0.0023 0.     0.    ]\n",
      " [1.     0.     0.     0.     0.    ]\n",
      " [0.     1.     0.     0.     0.    ]\n",
      " [0.     0.     1.     0.     0.    ]\n",
      " [0.     0.     0.     1.     0.    ]]\n"
     ]
    }
   ],
   "source": [
    "# Parametros\n",
    "n = 4 # Numero de maquinas\n",
    "p = 0.98 # Probabilidad de que una maquina funcione al dia siguiente\n",
    "r = 1-p # Probabilidad de que una maquina falle al dia siguiente\n",
    "\n",
    "# Espacio de estado\n",
    "\n",
    "estados = np.array([i for i in range(0,n+1)]) # Estados posibles (0 a n maquinas falladas)\n",
    "\n",
    "matriz_transicion = np.zeros((len(estados), len(estados))) # Inicializacion de la matriz de transicion\n",
    "matriz_transicion\n",
    "\n",
    "for i in range(len(estados)): # Iteracion sobre los estados actuales\n",
    "    for j in range(len(estados)): # Iteracion sobre los estados futuros\n",
    "        k = j # k es el numero de componentes fallados al inicio del dia siguiente\n",
    "\n",
    "        if j == i + k and i == 0: # Si no hay maquinas falladas al inicio del dia\n",
    "            matriz_transicion[i][j] = binom.pmf(k,n,r) # Probabilidad de que k maquinas fallen con distribucion binomial\n",
    "        elif j == i-1 and i > 0: # Si hay maquinas falladas al inicio del dia\n",
    "            matriz_transicion[i][j] = 1 # Si o si hay que reparar y solo puedo reparar una maquina al dia, entonces la probabilidad es 1\n",
    "        else: # En cualquier otro caso\n",
    "            matriz_transicion[i][j] = 0  # La probabilidad es 0\n",
    "             \n",
    "print(np.round(matriz_transicion, 4))\n"
   ]
  },
  {
   "cell_type": "code",
   "execution_count": null,
   "id": "cc45c61b",
   "metadata": {},
   "outputs": [],
   "source": [
    "cadena = dtmc(matriz_transicion, estados) # Creacion de la cadena de Markov\n"
   ]
  }
 ],
 "metadata": {
  "kernelspec": {
   "display_name": "Python 3",
   "language": "python",
   "name": "python3"
  },
  "language_info": {
   "codemirror_mode": {
    "name": "ipython",
    "version": 3
   },
   "file_extension": ".py",
   "mimetype": "text/x-python",
   "name": "python",
   "nbconvert_exporter": "python",
   "pygments_lexer": "ipython3",
   "version": "3.11.4"
  }
 },
 "nbformat": 4,
 "nbformat_minor": 5
}
