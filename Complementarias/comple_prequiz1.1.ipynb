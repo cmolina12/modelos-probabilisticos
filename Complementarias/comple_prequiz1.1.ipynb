{
 "cells": [
  {
   "cell_type": "markdown",
   "id": "e3375b0a",
   "metadata": {},
   "source": [
    "# Ejercicio 1 - Control de calidad con dos modos de inspección\n",
    "\n",
    "Una instalación de producción produce **un artículo por hora**. Cada artículo es **defectuoso con probabilidad $p$**, y la calidad de los artículos sucesivos es **independiente**. Se considera la siguiente política de control de calidad parametrizada por dos enteros positivos $k$ y $r$:\n",
    "\n",
    "* Al inicio, la política exige **inspección del 100%** (modo **costoso**).\n",
    "* **Tan pronto como** se encuentren **$k$** artículos **consecutivos no defectuosos**, se cambia al **modo económico** y se ordena **inspeccionar cada artículo con probabilidad $1/r$**.\n",
    "* Se **vuelve al modo costoso** tan pronto como se detecte que **un artículo inspeccionado es defectuoso**.\n",
    "* El proceso **alterna** de esta manera **para siempre**.\n",
    "\n",
    "## **(a)** Modela la política de inspección **como una cadena de Markov**, indicando variables, **espacio de estados** y la **matriz de transición** (o **generadora**, según corresponda) **en forma implícita**.\n",
    "\n",
    "### Parametros\n",
    "- Hay $k$ articulos en total\n",
    "- Empezamos en **modo costoso** donde la inspeccionar de subir siempre sera 1\n",
    "- Cuando estamos en $k$ estamos en **modo costoso**, donde ahora inspeccionar sera $\\frac{1}{r}$\n",
    "- Probabilidad de encontrar un defectuoso es $p$, y de no defectuoso $1-p$\n",
    "- Nos salimos de **modo economico** apenas detectemos un defectuoso.\n",
    "### Variable de estado\n",
    "$$\n",
    "X_{n}=\\text{Numero de articulos no defectuosos consecutivos en modo costoso cada hora }n\n",
    "$$\n",
    "### Espacio de estados\n",
    "$$\n",
    "S_{x}=\\{0,1,\\dots,k\\}\n",
    "$$\n",
    "donde:\n",
    "- $X_{t}=j(\\text{con }0\\leq j\\leq k-1):$ **modo costoso con racha de $j$ buenas consecutivas** \n",
    "- $X_{t}=k:$ **modo economico.**\n",
    "### Matriz de probabilidades\n",
    "\n",
    "$$\n",
    "\\begin{bmatrix}\n",
    "&0&1&2&3&4&5 \\\\\n",
    "0&p&1-p&0&0&0&0 \\\\\n",
    "1&p&0&1-p&0&0&0 \\\\\n",
    "2&p&0&0&1-p&0&0 \\\\\n",
    "3 \\\\\n",
    "4 \\\\\n",
    "5&\\frac{1}{r}*p&0&0&0&0&\\left( 1-\\frac{1}{r} \\right)+\\left( \\frac{1}{r}*(1-p) \\right)\n",
    "\\end{bmatrix}\n",
    "$$\n",
    "$$\n",
    "P_{i,j}\\rightarrow\\begin{cases}\n",
    "p&j=0 \\land i<k \\\\\n",
    "1-p&j=i+1 \\land i<k \\\\\n",
    "\\frac{p}{r}&i=k \\land j=5 \\\\\n",
    "1-\\frac{p}{r}&i=k\\land j=k \\\\\n",
    "0&d.l.c\n",
    "\\end{cases}\n",
    "$$\n"
   ]
  },
  {
   "cell_type": "code",
   "execution_count": 2,
   "id": "48b55a54",
   "metadata": {},
   "outputs": [],
   "source": [
    "import numpy as np\n",
    "from jmarkov.dtmc import dtmc"
   ]
  },
  {
   "cell_type": "code",
   "execution_count": 6,
   "id": "8e5d45d9",
   "metadata": {},
   "outputs": [],
   "source": [
    "\n",
    "# Parametros\n",
    "\n",
    "k = 20 # Numero de estados\n",
    "r = 4 # Constante para probabilidad\n",
    "p = 0.8 # Probabilidad de articulo defectuoso\n",
    "\n",
    "# Definir espacio de estado\n",
    "\n",
    "estados_consecutivos = np.array([i for i in range(0,k+1)])\n",
    "estados_consecutivos\n",
    "\n",
    "# Creo una matriz de transicion de ceros\n",
    "matrizConsecutivos = np.zeros((len(estados_consecutivos),len(estados_consecutivos)))\n",
    "matrizConsecutivos  \n",
    "\n",
    "# Recorro sobre el estado inicial\n",
    "for i in range(len(estados_consecutivos)):\n",
    "    # Recorro sobre el estado futuro:\n",
    "    for j in range(len(estados_consecutivos)):\n",
    "        if j == 0 and i < k:\n",
    "            matrizConsecutivos[i][j] = p\n",
    "        elif j == i + 1 and i < k:\n",
    "            matrizConsecutivos[i][j] = 1 - p\n",
    "        elif i == k and j == 0:\n",
    "            matrizConsecutivos[i][j] = (p/r)\n",
    "        elif i == k and j == k:\n",
    "            matrizConsecutivos[i][j] = ((1/r)*(1 - p))+(1-(1/r))\n",
    "        else:\n",
    "            matrizConsecutivos[i][j] = 0"
   ]
  },
  {
   "cell_type": "code",
   "execution_count": 7,
   "id": "be1f2596",
   "metadata": {},
   "outputs": [],
   "source": [
    "cadenaConsecutivos = dtmc(matrizConsecutivos, estados_consecutivos)"
   ]
  },
  {
   "cell_type": "code",
   "execution_count": 8,
   "id": "135e738a",
   "metadata": {},
   "outputs": [],
   "source": [
    "import numpy as np\n",
    "from jmarkov.ctmc import ctmc"
   ]
  },
  {
   "cell_type": "code",
   "execution_count": 9,
   "id": "d2d5e384",
   "metadata": {},
   "outputs": [],
   "source": [
    "# Parametros\n",
    "\n",
    "N = 5\n",
    "p = 0.3\n",
    "lambda_llegadas = 15\n",
    "mu_alimentacion = 7\n",
    "gamma_descanso = 2"
   ]
  },
  {
   "cell_type": "code",
   "execution_count": 12,
   "id": "0298a309",
   "metadata": {},
   "outputs": [],
   "source": [
    "estadosAlimentacion = np.array([i for i in range(0,N+1)])\n",
    "estadosDescanso = np.array([i for i in range(0,N+1)])\n",
    "\n",
    "estados_conjunto = []\n",
    "for i in estadosAlimentacion:\n",
    "    for j in estadosDescanso:\n",
    "        if i + j <= N:\n",
    "            estados_conjunto.append((i,j))\n",
    "            \n",
    "estados_conjunto = np.array(estados_conjunto)"
   ]
  },
  {
   "cell_type": "code",
   "execution_count": null,
   "id": "046289c0",
   "metadata": {},
   "outputs": [
    {
     "name": "stdout",
     "output_type": "stream",
     "text": [
      "0 0\n",
      "0 1\n",
      "0 2\n",
      "0 3\n",
      "0 4\n",
      "0 5\n",
      "1 0\n",
      "1 1\n",
      "1 2\n",
      "1 3\n",
      "1 4\n",
      "2 0\n",
      "2 1\n",
      "2 2\n",
      "2 3\n",
      "3 0\n",
      "3 1\n",
      "3 2\n",
      "4 0\n",
      "4 1\n",
      "5 0\n"
     ]
    }
   ],
   "source": [
    "matrizSDIS = np.zeros((len(estados_conjunto), len(estados_conjunto)))\n",
    "\n",
    "for fila, estado_inicial in enumerate(estados_conjunto):\n",
    "    i,j  = estado_inicial\n",
    "    \n",
    "    for columna, estado_futuro in enumerate(estados_conjunto):\n",
    "        i_, j_ = estado_futuro\n",
    "\n",
    "        if i == i+1 and j_ == j and i+j<N:\n",
    "            matrizSDIS[fila][columna] = lambda_llegadas"
   ]
  }
 ],
 "metadata": {
  "kernelspec": {
   "display_name": "Python 3",
   "language": "python",
   "name": "python3"
  },
  "language_info": {
   "codemirror_mode": {
    "name": "ipython",
    "version": 3
   },
   "file_extension": ".py",
   "mimetype": "text/x-python",
   "name": "python",
   "nbconvert_exporter": "python",
   "pygments_lexer": "ipython3",
   "version": "3.11.4"
  }
 },
 "nbformat": 4,
 "nbformat_minor": 5
}
