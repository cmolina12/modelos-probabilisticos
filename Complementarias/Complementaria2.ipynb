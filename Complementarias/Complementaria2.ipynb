{
 "cells": [
  {
   "cell_type": "code",
   "execution_count": null,
   "id": "7d3943ed",
   "metadata": {
    "ExecuteTime": {
     "end_time": "2025-08-14T18:44:19.681340Z",
     "start_time": "2025-08-14T18:44:19.222955Z"
    }
   },
   "outputs": [],
   "source": [
    "import numpy as np\n",
    "from jmarkov.dtmc import dtmc"
   ]
  },
  {
   "cell_type": "code",
   "execution_count": 7,
   "id": "66a4a2cf",
   "metadata": {},
   "outputs": [
    {
     "name": "stdout",
     "output_type": "stream",
     "text": [
      "[[0.5 0.5 0.  0.  0. ]\n",
      " [0.2 0.3 0.5 0.  0. ]\n",
      " [0.  0.2 0.3 0.5 0. ]\n",
      " [0.  0.  0.2 0.3 0.5]\n",
      " [0.  0.  0.  0.2 0.8]]\n"
     ]
    }
   ],
   "source": [
    "filas = 5\n",
    "columnas = 5\n",
    "matriz = np.zeros((filas, columnas), dtype=float)\n",
    "\n",
    "# Recorrer filas\n",
    "for i in range(filas):\n",
    "    # Recorrer columnas\n",
    "    for j in range(columnas):\n",
    "        \n",
    "        if j == i + 1 and i < 4:\n",
    "            matriz[i][j] = 0.5\n",
    "            \n",
    "        elif j == i - 1 and i > 0:\n",
    "            matriz[i][j] = 0.2\n",
    "            \n",
    "        elif j == i and 0 < i < 4:\n",
    "            matriz[i][j] = 0.3\n",
    "            \n",
    "        elif j == i == 0:\n",
    "            matriz[i][j] = 0.5\n",
    "            \n",
    "        elif j == i == 4:\n",
    "            matriz[i][j] = 0.8\n",
    "            \n",
    "        else:\n",
    "            matriz[i][j] = 0\n",
    "            \n",
    "print(matriz)"
   ]
  },
  {
   "cell_type": "code",
   "execution_count": 13,
   "id": "8e36608a",
   "metadata": {},
   "outputs": [],
   "source": [
    "P = dtmc(matriz)"
   ]
  },
  {
   "cell_type": "code",
   "execution_count": 14,
   "id": "66b978fd",
   "metadata": {},
   "outputs": [
    {
     "data": {
      "text/plain": [
       "array([0., 1., 0., 0., 0.])"
      ]
     },
     "execution_count": 14,
     "metadata": {},
     "output_type": "execute_result"
    }
   ],
   "source": [
    "alpha = np.zeros(5)\n",
    "alpha[1] = 1.0\n",
    "alpha"
   ]
  },
  {
   "cell_type": "code",
   "execution_count": 19,
   "id": "d32a00b9",
   "metadata": {},
   "outputs": [
    {
     "data": {
      "text/plain": [
       "0.4475"
      ]
     },
     "execution_count": 19,
     "metadata": {},
     "output_type": "execute_result"
    }
   ],
   "source": [
    "probabilidades_viernes = P.transient_probabilities(n=4,alpha=alpha)\n",
    "probabilidades_finales = probabilidades_viernes[-1] + probabilidades_viernes[-2]\n",
    "probabilidades_finales"
   ]
  },
  {
   "cell_type": "code",
   "execution_count": 21,
   "id": "c46b75fb",
   "metadata": {},
   "outputs": [],
   "source": [
    "probabilidades_martes = P.transient_probabilities(n=1,alpha=alpha)\n",
    "probabilidades_miercoles = P.transient_probabilities(n=2,alpha=alpha)\n",
    "probabilidades_jueves = P.transient_probabilities(n=3,alpha=alpha)\n",
    "probabilidades_viernes = P.transient_probabilities(n=4,alpha=alpha)"
   ]
  },
  {
   "cell_type": "code",
   "execution_count": 23,
   "id": "99028775",
   "metadata": {},
   "outputs": [
    {
     "data": {
      "text/plain": [
       "40.5"
      ]
     },
     "execution_count": 23,
     "metadata": {},
     "output_type": "execute_result"
    }
   ],
   "source": [
    "gasto = 120\n",
    "gasto_total = (probabilidades_martes[4] * gasto) + (probabilidades_miercoles[4] * gasto) + (probabilidades_jueves[4] * gasto) + (probabilidades_viernes[4] * gasto)\n",
    "gasto_total"
   ]
  }
 ],
 "metadata": {
  "kernelspec": {
   "display_name": "Python 3",
   "language": "python",
   "name": "python3"
  },
  "language_info": {
   "codemirror_mode": {
    "name": "ipython",
    "version": 3
   },
   "file_extension": ".py",
   "mimetype": "text/x-python",
   "name": "python",
   "nbconvert_exporter": "python",
   "pygments_lexer": "ipython3",
   "version": "3.11.4"
  }
 },
 "nbformat": 4,
 "nbformat_minor": 5
}
